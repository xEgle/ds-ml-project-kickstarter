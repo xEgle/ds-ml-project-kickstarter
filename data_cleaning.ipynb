{
 "cells": [
  {
   "cell_type": "code",
   "execution_count": null,
   "metadata": {},
   "outputs": [],
   "source": [
    "# This script relates to the kickstarter dataset.\n",
    "# It changes column names, drops unnecessary features and checks the currency columns for validity.\n",
    "# Collaborators: Philippa Schindler"
   ]
  },
  {
   "cell_type": "code",
   "execution_count": null,
   "metadata": {},
   "outputs": [],
   "source": [
    "import pandas as pd"
   ]
  },
  {
   "cell_type": "code",
   "execution_count": null,
   "metadata": {},
   "outputs": [],
   "source": [
    "df = pd.read_csv('data/kickstarter_full.csv')"
   ]
  },
  {
   "cell_type": "code",
   "execution_count": null,
   "metadata": {},
   "outputs": [],
   "source": [
    "# rename blurb to description and goal to goal_orig\n",
    "df.rename(columns={'blurb':'description','pledged':'pledged_orig','goal':'goal_orig'},inplace=True)"
   ]
  },
  {
   "cell_type": "code",
   "execution_count": null,
   "metadata": {},
   "outputs": [],
   "source": [
    "# add prefix date_* to launched_at, created_at, deadline, state_changed_at\n",
    "df.rename(columns={'launched_at':'date_launch', 'created_at':'date_creation', 'deadline':'date_end', 'state_changed_at':'date_status_change'}, inplace=True)\n"
   ]
  },
  {
   "cell_type": "code",
   "execution_count": null,
   "metadata": {},
   "outputs": [],
   "source": [
    "# drop unnecessary columns\n",
    "df_drop = df.drop(['currency_symbol','converted_pledged_amount','currency_trailing_code',\n",
    "    'friends', 'fx_rate','is_backing', 'is_starrable', 'is_starred','permissions','slug','source_url','urls','usd_type'], axis = 1)"
   ]
  },
  {
   "cell_type": "code",
   "execution_count": null,
   "metadata": {},
   "outputs": [],
   "source": [
    "#save merged raw dataframe as a file \n",
    "df.to_csv('data/1_data_dropped.csv')"
   ]
  },
  {
   "cell_type": "code",
   "execution_count": null,
   "metadata": {},
   "outputs": [],
   "source": [
    "#drop duplicate rows & status == fail or successful \n",
    "df = df.query('(state == \"failed\") or (state == \"successful\")')\n",
    "df.drop_duplicates(subset = 'id', inplace=True)"
   ]
  }
 ],
 "metadata": {
  "kernelspec": {
   "display_name": "Python 3.9.8 ('.venv': venv)",
   "language": "python",
   "name": "python3"
  },
  "language_info": {
   "codemirror_mode": {
    "name": "ipython",
    "version": 3
   },
   "file_extension": ".py",
   "mimetype": "text/x-python",
   "name": "python",
   "nbconvert_exporter": "python",
   "pygments_lexer": "ipython3",
   "version": "3.9.8"
  },
  "orig_nbformat": 4,
  "vscode": {
   "interpreter": {
    "hash": "246773fcefac3fdb2c2c1cd23d67d4ab973d124541c22a468fcca47900c0ff93"
   }
  }
 },
 "nbformat": 4,
 "nbformat_minor": 2
}
