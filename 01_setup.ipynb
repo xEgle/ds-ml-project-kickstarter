{
 "cells": [
  {
   "cell_type": "code",
   "execution_count": 1,
   "metadata": {},
   "outputs": [],
   "source": [
    "import pandas as pd\n",
    "import glob\n",
    "import os\n",
    "import re\n",
    "\n",
    "import json"
   ]
  },
  {
   "cell_type": "code",
   "execution_count": 2,
   "metadata": {},
   "outputs": [],
   "source": [
    "#### MERGE ALL THE FILES IN ONE\n",
    "# setting the path for joining multiple files\n",
    "files = os.path.join(\"data-2/\", \"Kickstarter*.csv\")\n",
    "\n",
    "# list of merged files returned\n",
    "files = glob.glob(files)\n",
    "\n",
    "# joining files with concat and read_csv\n",
    "df = pd.concat(map(pd.read_csv, files), ignore_index=True)\n"
   ]
  },
  {
   "cell_type": "code",
   "execution_count": 3,
   "metadata": {},
   "outputs": [],
   "source": [
    "#save merged raw dataframe as a file \n",
    "df.to_csv('data/0_data_raw.csv')"
   ]
  },
  {
   "cell_type": "markdown",
   "metadata": {},
   "source": [
    "### creator_id\n",
    "extracting creator_id"
   ]
  },
  {
   "cell_type": "code",
   "execution_count": 4,
   "metadata": {},
   "outputs": [],
   "source": [
    "#creating a new column\n",
    "df['creator_id'] = df['creator']\n",
    "#set a list from 0 til number of rows\n",
    "rows = list(range(0,df.creator_id.shape[0]))"
   ]
  },
  {
   "cell_type": "code",
   "execution_count": 5,
   "metadata": {},
   "outputs": [
    {
     "name": "stderr",
     "output_type": "stream",
     "text": [
      "/var/folders/39/h9t97r415hgdzn9cx8g2r7ch0000gn/T/ipykernel_5913/456914433.py:7: SettingWithCopyWarning: \n",
      "A value is trying to be set on a copy of a slice from a DataFrame\n",
      "\n",
      "See the caveats in the documentation: https://pandas.pydata.org/pandas-docs/stable/user_guide/indexing.html#returning-a-view-versus-a-copy\n",
      "  df['creator_id'][cell] = int(x[0])\n"
     ]
    }
   ],
   "source": [
    "#patience please - the code needs some; around 4.5 min\n",
    "# with a for loop splitting the dictionary in parts and extracting the needed info\n",
    "for cell in rows:\n",
    "    x = df['creator_id'][cell]\n",
    "    x = re.split(\":\", df['creator_id'][cell])\n",
    "    x = re.split(\",\", x[1])\n",
    "    df['creator_id'][cell] = int(x[0])"
   ]
  },
  {
   "cell_type": "markdown",
   "metadata": {},
   "source": [
    "### dict columns"
   ]
  },
  {
   "cell_type": "code",
   "execution_count": 6,
   "metadata": {},
   "outputs": [],
   "source": [
    "#convert needed columns with dict content into columns\n",
    "cols = ['category']\n",
    "for col in cols:\n",
    "    pd.json_normalize\n",
    "    stdf = df[col].apply(json.loads)\n",
    "    extracted = pd.DataFrame(stdf.tolist())\n",
    "    extracted = extracted.add_prefix(f'{col}_')\n",
    "    df = pd.concat([df, extracted], axis = 1)\n",
    "    df = df.drop(col, axis = 1)\n",
    "\n",
    "#drop non-convertable columns + columns which don't have any extra information \n",
    "# (photo, urls, category_urls)\n",
    "col = ['creator', 'location', 'profile', 'photo', 'urls', 'category_urls']\n",
    "df = df.drop(col, axis = 1)"
   ]
  },
  {
   "cell_type": "markdown",
   "metadata": {},
   "source": [
    "### unixstamp"
   ]
  },
  {
   "cell_type": "code",
   "execution_count": 7,
   "metadata": {},
   "outputs": [],
   "source": [
    "# unixstamp into datetype\n",
    "dates = ['created_at', 'deadline', 'launched_at', 'state_changed_at']\n",
    "for date in dates:\n",
    "    df[date] = pd.to_datetime(df[date],unit='s')"
   ]
  },
  {
   "cell_type": "code",
   "execution_count": 8,
   "metadata": {},
   "outputs": [],
   "source": [
    "#save working dataframe as file\n",
    "df.to_csv('data/1_working_data.csv')"
   ]
  }
 ],
 "metadata": {
  "kernelspec": {
   "display_name": "Python 3.9.8 ('.venv': venv)",
   "language": "python",
   "name": "python3"
  },
  "language_info": {
   "codemirror_mode": {
    "name": "ipython",
    "version": 3
   },
   "file_extension": ".py",
   "mimetype": "text/x-python",
   "name": "python",
   "nbconvert_exporter": "python",
   "pygments_lexer": "ipython3",
   "version": "3.9.8"
  },
  "orig_nbformat": 4,
  "vscode": {
   "interpreter": {
    "hash": "acb36a9476365e98b039fbc63b261488d0140862f2956f6961bb0ecf49196712"
   }
  }
 },
 "nbformat": 4,
 "nbformat_minor": 2
}
