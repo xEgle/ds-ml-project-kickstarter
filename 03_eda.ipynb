{
 "cells": [
  {
   "cell_type": "markdown",
   "metadata": {},
   "source": [
    "# EDA"
   ]
  },
  {
   "cell_type": "code",
   "execution_count": null,
   "metadata": {},
   "outputs": [],
   "source": [
    "# import the necessary libraries you need for your analysis\n",
    "import pandas as pd\n",
    "import numpy as np\n",
    "import matplotlib.pyplot as plt\n",
    "import seaborn as sns\n",
    "import plotly.express as px\n",
    "import plotly.graph_objects as go\n",
    "from matplotlib.ticker import PercentFormatter\n",
    "from datetime import datetime as dt\n",
    "\n",
    "# set general params\n",
    "plt.rcParams.update({ \"figure.figsize\" : (15, 5),\"axes.facecolor\" : \"white\", \"axes.edgecolor\":  \"black\"})\n",
    "plt.rcParams[\"figure.facecolor\"]= \"w\"\n",
    "pd.plotting.register_matplotlib_converters()\n",
    "# Floats (decimal numbers) should be displayed rounded with 1 decimal place\n",
    "pd.set_option('display.float_format', lambda x: '%.1f' % x)\n",
    "# Set style for plots\n",
    "plt.style.use('fivethirtyeight') "
   ]
  },
  {
   "cell_type": "code",
   "execution_count": null,
   "metadata": {},
   "outputs": [],
   "source": [
    "df = pd.read_csv('data/2_data.csv')"
   ]
  },
  {
   "cell_type": "code",
   "execution_count": null,
   "metadata": {},
   "outputs": [],
   "source": [
    "# display all available columns and open in separate file\n",
    "for col in df.columns.sort_values():\n",
    "    print(col)"
   ]
  },
  {
   "cell_type": "markdown",
   "metadata": {},
   "source": [
    "# Outcome variable = State is succesful or not"
   ]
  },
  {
   "cell_type": "code",
   "execution_count": null,
   "metadata": {},
   "outputs": [],
   "source": [
    "df['state'].value_counts()"
   ]
  },
  {
   "cell_type": "code",
   "execution_count": null,
   "metadata": {},
   "outputs": [],
   "source": [
    "df[['state','usd_pledged']].describe()"
   ]
  },
  {
   "cell_type": "code",
   "execution_count": null,
   "metadata": {},
   "outputs": [],
   "source": [
    "sns.histplot(data=df, x='state',hue='state')\n",
    "plt.show()"
   ]
  },
  {
   "cell_type": "markdown",
   "metadata": {},
   "source": [
    "# Category distribution by project otucome "
   ]
  },
  {
   "cell_type": "code",
   "execution_count": null,
   "metadata": {},
   "outputs": [],
   "source": [
    "# setup data \n",
    "bdata = df.query('state == \"successful\"')\n",
    "axline_successful = bdata.groupby('category_main')['category_main'].count().mean()\n",
    "\n",
    "b = sns.countplot(data=bdata, x='category_main', order = bdata['category_main'].value_counts().index,color='forestgreen')\n",
    "b.set_xticklabels(b.get_xticklabels(),rotation = 45, size = 10)\n",
    "b.axhline(y=axline_successful, color='black', linestyle =\"--\",linewidth = 1)\n",
    "plt.xlabel(\" \")\n",
    "plt.ylabel(\" \")\n",
    "plt.show()"
   ]
  },
  {
   "cell_type": "code",
   "execution_count": null,
   "metadata": {},
   "outputs": [],
   "source": [
    "# setup data \n",
    "cdata = df.query('state == \"failed\"')\n",
    "axline_unsuccessful = cdata.groupby('category_main')['category_main'].count().mean()\n",
    "\n",
    "c = sns.countplot(data=bdata, x='category_main', order = cdata['category_main'].value_counts().index,color='indianred')\n",
    "c.set_xticklabels(b.get_xticklabels(),rotation = 45, size = 10)\n",
    "c.axhline(y=axline_unsuccessful, color='black', linestyle =\"--\",linewidth = 1)\n",
    "plt.xlabel(\" \")\n",
    "plt.ylabel(\" \")\n",
    "plt.show()"
   ]
  },
  {
   "cell_type": "code",
   "execution_count": null,
   "metadata": {},
   "outputs": [],
   "source": [
    "# Best subcategories\n",
    "# setup data \n",
    "# setup data \n",
    "ddata = df.query('state == \"successful\"')\n",
    "axline_successful2 = bdata.groupby('category_sub')['category_sub'].count().mean()\n",
    "\n",
    "d = sns.countplot(data=ddata, x='category_sub', order = ddata['category_sub'].value_counts().index,color='forestgreen')\n",
    "d.set_xticklabels(d.get_xticklabels(),rotation = 45, size = 10)\n",
    "b.axhline(y=axline_successful2, color='black', linestyle =\"--\",linewidth = 1)\n",
    "plt.xlabel(\" \")\n",
    "plt.ylabel(\" \")\n",
    "plt.show()"
   ]
  },
  {
   "cell_type": "markdown",
   "metadata": {},
   "source": [
    "# Length of title and description"
   ]
  },
  {
   "cell_type": "code",
   "execution_count": null,
   "metadata": {},
   "outputs": [],
   "source": [
    "sns.displot(data=df, x='name_length',col='state',hue='state')"
   ]
  },
  {
   "cell_type": "code",
   "execution_count": null,
   "metadata": {},
   "outputs": [],
   "source": [
    "sns.displot(data=df, x='description_length',col='state',hue='state')"
   ]
  },
  {
   "cell_type": "markdown",
   "metadata": {},
   "source": [
    "# Number of projects over time"
   ]
  },
  {
   "cell_type": "code",
   "execution_count": null,
   "metadata": {},
   "outputs": [],
   "source": [
    "df['date_launch'] = pd.to_datetime(df['date_launch'])\n",
    "df['date_end'] = pd.to_datetime(df['date_end'])\n",
    "df['date_end'].head(2)"
   ]
  },
  {
   "cell_type": "code",
   "execution_count": null,
   "metadata": {},
   "outputs": [],
   "source": [
    "# format launch date to month\n",
    "df['date_launch_month'] = pd.to_datetime(df['date_launch']).dt.to_period('M')\n",
    "df['date_launch_month'].head(2)"
   ]
  },
  {
   "cell_type": "code",
   "execution_count": null,
   "metadata": {},
   "outputs": [],
   "source": [
    "t = sns.countplot(data=df,x='date_launch_month',color='steelblue')\n",
    "t.set_xticklabels(t.get_xticklabels(),rotation = 90, size = 10)\n",
    "plt.show()"
   ]
  },
  {
   "cell_type": "code",
   "execution_count": null,
   "metadata": {},
   "outputs": [],
   "source": [
    "# format launch date to quarter\n",
    "df['date_launch_quarter'] = pd.to_datetime(df['date_launch']).dt.to_period('Q')\n",
    "df['date_launch_quarter'].head(2)"
   ]
  },
  {
   "cell_type": "code",
   "execution_count": null,
   "metadata": {},
   "outputs": [],
   "source": [
    "# Quarterly projects \n",
    "ma = df[['date_launch_quarter','id']].groupby('date_launch_quarter').count().reset_index().sort_values('date_launch_quarter')\n",
    "ma2 = ma['id'].mean()"
   ]
  },
  {
   "cell_type": "code",
   "execution_count": null,
   "metadata": {},
   "outputs": [],
   "source": [
    "t = sns.countplot(data=df,x='date_launch_quarter', color='steelblue', order=ma['date_launch_quarter'])\n",
    "t.set_xticklabels(t.get_xticklabels(),rotation = 90, size = 10)\n",
    "t.axhline(y=ma2, color='black', linestyle =\"--\",linewidth = 1)\n",
    "plt.xlabel(\" \")\n",
    "plt.ylabel(\" \")\n",
    "plt.show()"
   ]
  },
  {
   "cell_type": "code",
   "execution_count": null,
   "metadata": {},
   "outputs": [],
   "source": [
    "df.head()"
   ]
  },
  {
   "cell_type": "code",
   "execution_count": null,
   "metadata": {},
   "outputs": [],
   "source": [
    "df['duration'] = df['date_end']-df['date_launch']\n",
    "df['duration'] = df['duration'].dt.round('d').dt.days # Rounding to nearest days, then showing as number only\n",
    "df['duration'].head()"
   ]
  },
  {
   "cell_type": "code",
   "execution_count": null,
   "metadata": {},
   "outputs": [],
   "source": [
    "\n",
    "# calculcate avg\n",
    "avg_duration = df['duration'].mean()\n",
    "avg_duration"
   ]
  },
  {
   "cell_type": "code",
   "execution_count": null,
   "metadata": {},
   "outputs": [],
   "source": [
    "# create duration histogram without avg. line \n",
    "# create plot \n",
    "t1 = sns.histplot(data=df, x='duration',hue='state',binwidth=3)\n",
    "plt.xlabel(\" \")\n",
    "plt.ylabel(\" \")\n",
    "plt.title(\"Distribution of the project duration by project state\")\n",
    "plt.show()\n"
   ]
  },
  {
   "cell_type": "code",
   "execution_count": null,
   "metadata": {},
   "outputs": [],
   "source": [
    "# Launch day of week\n",
    "df['launch_day'] = df['date_launch'].dt.weekday\n",
    "#df['launch_day_name'] = df['date_launch'].dt.weekday_name does not exist, takes too much time to code now\n",
    "df[['launch_day']].head()"
   ]
  },
  {
   "cell_type": "code",
   "execution_count": null,
   "metadata": {},
   "outputs": [],
   "source": [
    "t2 = sns.countplot(data=df,x='launch_day',hue='state')\n",
    "plt.xlabel(\"Day of week Monday - Sunday\")\n",
    "plt.ylabel(\" \")\n",
    "plt.title(\"Distribution of the project launch by day of week\")\n",
    "plt.show()"
   ]
  },
  {
   "cell_type": "code",
   "execution_count": null,
   "metadata": {},
   "outputs": [],
   "source": [
    "# Launch month\n",
    "df['launch_month'] = df['date_launch'].dt.month\n",
    "df['launch_month_name'] = df['date_launch'].dt.month_name()\n",
    "df[['launch_month','launch_month_name']].head()"
   ]
  },
  {
   "cell_type": "code",
   "execution_count": null,
   "metadata": {},
   "outputs": [],
   "source": [
    "t3 = sns.countplot(data=df,x='launch_month',hue='state')\n",
    "plt.xlabel(\" \")\n",
    "plt.ylabel(\" \")\n",
    "plt.title(\"Distribution of the project launch by month\")\n",
    "plt.show()"
   ]
  }
 ],
 "metadata": {
  "kernelspec": {
   "display_name": "Python 3.9.8 ('.venv': venv)",
   "language": "python",
   "name": "python3"
  },
  "language_info": {
   "codemirror_mode": {
    "name": "ipython",
    "version": 3
   },
   "file_extension": ".py",
   "mimetype": "text/x-python",
   "name": "python",
   "nbconvert_exporter": "python",
   "pygments_lexer": "ipython3",
   "version": "3.9.8"
  },
  "orig_nbformat": 4,
  "vscode": {
   "interpreter": {
    "hash": "acb36a9476365e98b039fbc63b261488d0140862f2956f6961bb0ecf49196712"
   }
  }
 },
 "nbformat": 4,
 "nbformat_minor": 2
}
