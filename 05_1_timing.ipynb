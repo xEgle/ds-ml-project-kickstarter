{
 "cells": [
  {
   "cell_type": "markdown",
   "metadata": {},
   "source": [
    "### Timing\n",
    "\n",
    "* Point in time: Day of week, Month of year, Time of day\n",
    "* Durations: time from launch to deadline\n",
    "* Goal: Advise people when to launch so that the project will reach its goal and become successful"
   ]
  },
  {
   "cell_type": "markdown",
   "metadata": {},
   "source": [
    "EDA - get an overview: \n",
    "- [x] Relevant columns for me\n",
    "- [x] Dataframe x & y \n",
    "- [x] correlation\n",
    "- [x] boxplot\n",
    "- [x] distplot\n",
    "\n",
    "Simple model\n",
    "- [x] Log regression\n",
    "\n",
    "Clarify\n",
    "- [x] Regularization needed?\n",
    "\n",
    "Fancy model\n",
    "- [ ] Decision tree\n",
    "- [ ] Random forrest"
   ]
  },
  {
   "cell_type": "code",
   "execution_count": 326,
   "metadata": {},
   "outputs": [],
   "source": [
    "import pandas as pd\n",
    "import numpy as np\n",
    "import seaborn as sns\n",
    "import matplotlib.pyplot as plt\n",
    "\n",
    "from sklearn.model_selection import train_test_split\n",
    "from sklearn.linear_model import LogisticRegression\n",
    "from sklearn.tree import DecisionTreeClassifier\n",
    "from sklearn.ensemble import RandomForestClassifier\n",
    "from sklearn import metrics\n",
    "from sklearn.preprocessing import StandardScaler, MinMaxScaler\n",
    "from sklearn.metrics import confusion_matrix, classification_report, accuracy_score\n",
    "\n",
    "# Suppress warnings \n",
    "# (sometimes you might want to ignore warnings, that's how you can achieve this)\n",
    "import warnings\n",
    "warnings.filterwarnings('ignore')\n",
    "\n",
    "RSEED = 42"
   ]
  },
  {
   "cell_type": "code",
   "execution_count": 327,
   "metadata": {},
   "outputs": [],
   "source": [
    "df_raw = pd.read_csv('data/2_data.csv')"
   ]
  },
  {
   "cell_type": "code",
   "execution_count": 328,
   "metadata": {},
   "outputs": [],
   "source": [
    "columns = ['state', 'date_creation', 'date_end', 'date_launch', 'duration']\n",
    "df = df_raw[columns].copy()"
   ]
  },
  {
   "cell_type": "code",
   "execution_count": 329,
   "metadata": {},
   "outputs": [],
   "source": [
    "#splitting date columns \n",
    "df[['date_creation', 'date_cree_time']] = df['date_creation'].str.split(' ', expand=True)\n",
    "df[['date_end', 'date_end_time']] = df['date_end'].str.split(' ', expand=True)\n",
    "df[['date_launch', 'date_launch_time']] = df['date_launch'].str.split(' ', expand=True)\n",
    "df[['duration', 'duration_days_weeks', 'duration_time']] = df['duration'].str.split(' ', expand=True)\n",
    "\n",
    "#deleting not necessary extra columns with time\n",
    "df = df.drop('duration_days_weeks', axis = 1).drop('duration_time', axis = 1).drop('date_launch_time', axis = 1).drop('date_end_time', axis = 1).drop('date_cree_time', axis = 1)\n",
    "\n",
    "#changing dtype from object to datetime\n",
    "col_time = ['date_creation', 'date_end', 'date_launch']\n",
    "for date in col_time:\n",
    "    df[date] = pd.to_datetime(df[date]) # convert to datetime\n"
   ]
  },
  {
   "cell_type": "code",
   "execution_count": 330,
   "metadata": {},
   "outputs": [],
   "source": [
    "#replace state --> failed == 0 and successfull == 1\n",
    "df['state'] = df['state'].replace('failed', 0).replace('successful', 1).astype(int)\n",
    "\n",
    "#change dtype for duration from object into int\n",
    "df.duration = df.duration.astype(int)"
   ]
  },
  {
   "cell_type": "code",
   "execution_count": 331,
   "metadata": {},
   "outputs": [],
   "source": [
    "df['weekday_launch'] = df.date_launch.dt.dayofweek\n",
    "df['month_launch'] = df.date_launch.dt.month\n",
    "df['weekday_end'] = df.date_end.dt.dayofweek\n",
    "df['month_end'] = df.date_end.dt.month\n",
    "\n",
    "#weekday 1 to 7, and not 0 - 6 anymore\n",
    "df['weekday_launch'] = df.weekday_launch.replace(6,7).replace(5,6).replace(4,5).replace(3,4).replace(2,3).replace(1,2).replace(0,1)"
   ]
  },
  {
   "cell_type": "code",
   "execution_count": 332,
   "metadata": {},
   "outputs": [
    {
     "data": {
      "text/html": [
       "<div>\n",
       "<style scoped>\n",
       "    .dataframe tbody tr th:only-of-type {\n",
       "        vertical-align: middle;\n",
       "    }\n",
       "\n",
       "    .dataframe tbody tr th {\n",
       "        vertical-align: top;\n",
       "    }\n",
       "\n",
       "    .dataframe thead th {\n",
       "        text-align: right;\n",
       "    }\n",
       "</style>\n",
       "<table border=\"1\" class=\"dataframe\">\n",
       "  <thead>\n",
       "    <tr style=\"text-align: right;\">\n",
       "      <th></th>\n",
       "      <th>state</th>\n",
       "      <th>date_creation</th>\n",
       "      <th>date_end</th>\n",
       "      <th>date_launch</th>\n",
       "      <th>duration</th>\n",
       "      <th>weekday_launch</th>\n",
       "      <th>month_launch</th>\n",
       "      <th>weekday_end</th>\n",
       "      <th>month_end</th>\n",
       "    </tr>\n",
       "  </thead>\n",
       "  <tbody>\n",
       "    <tr>\n",
       "      <th>0</th>\n",
       "      <td>1</td>\n",
       "      <td>2017-08-02</td>\n",
       "      <td>2017-09-09</td>\n",
       "      <td>2017-08-10</td>\n",
       "      <td>30</td>\n",
       "      <td>4</td>\n",
       "      <td>8</td>\n",
       "      <td>5</td>\n",
       "      <td>9</td>\n",
       "    </tr>\n",
       "    <tr>\n",
       "      <th>1</th>\n",
       "      <td>1</td>\n",
       "      <td>2012-09-30</td>\n",
       "      <td>2013-06-12</td>\n",
       "      <td>2013-05-13</td>\n",
       "      <td>30</td>\n",
       "      <td>1</td>\n",
       "      <td>5</td>\n",
       "      <td>2</td>\n",
       "      <td>6</td>\n",
       "    </tr>\n",
       "    <tr>\n",
       "      <th>2</th>\n",
       "      <td>0</td>\n",
       "      <td>2017-01-07</td>\n",
       "      <td>2017-03-13</td>\n",
       "      <td>2017-01-12</td>\n",
       "      <td>59</td>\n",
       "      <td>4</td>\n",
       "      <td>1</td>\n",
       "      <td>0</td>\n",
       "      <td>3</td>\n",
       "    </tr>\n",
       "    <tr>\n",
       "      <th>3</th>\n",
       "      <td>1</td>\n",
       "      <td>2012-12-06</td>\n",
       "      <td>2013-01-09</td>\n",
       "      <td>2012-12-10</td>\n",
       "      <td>30</td>\n",
       "      <td>1</td>\n",
       "      <td>12</td>\n",
       "      <td>2</td>\n",
       "      <td>1</td>\n",
       "    </tr>\n",
       "    <tr>\n",
       "      <th>4</th>\n",
       "      <td>1</td>\n",
       "      <td>2014-10-24</td>\n",
       "      <td>2015-05-02</td>\n",
       "      <td>2015-04-02</td>\n",
       "      <td>30</td>\n",
       "      <td>4</td>\n",
       "      <td>4</td>\n",
       "      <td>5</td>\n",
       "      <td>5</td>\n",
       "    </tr>\n",
       "    <tr>\n",
       "      <th>...</th>\n",
       "      <td>...</td>\n",
       "      <td>...</td>\n",
       "      <td>...</td>\n",
       "      <td>...</td>\n",
       "      <td>...</td>\n",
       "      <td>...</td>\n",
       "      <td>...</td>\n",
       "      <td>...</td>\n",
       "      <td>...</td>\n",
       "    </tr>\n",
       "    <tr>\n",
       "      <th>168974</th>\n",
       "      <td>1</td>\n",
       "      <td>2014-07-17</td>\n",
       "      <td>2014-10-01</td>\n",
       "      <td>2014-08-04</td>\n",
       "      <td>58</td>\n",
       "      <td>1</td>\n",
       "      <td>8</td>\n",
       "      <td>2</td>\n",
       "      <td>10</td>\n",
       "    </tr>\n",
       "    <tr>\n",
       "      <th>168975</th>\n",
       "      <td>1</td>\n",
       "      <td>2017-04-24</td>\n",
       "      <td>2017-06-19</td>\n",
       "      <td>2017-05-14</td>\n",
       "      <td>36</td>\n",
       "      <td>7</td>\n",
       "      <td>5</td>\n",
       "      <td>0</td>\n",
       "      <td>6</td>\n",
       "    </tr>\n",
       "    <tr>\n",
       "      <th>168976</th>\n",
       "      <td>1</td>\n",
       "      <td>2012-07-03</td>\n",
       "      <td>2012-09-17</td>\n",
       "      <td>2012-08-14</td>\n",
       "      <td>33</td>\n",
       "      <td>2</td>\n",
       "      <td>8</td>\n",
       "      <td>0</td>\n",
       "      <td>9</td>\n",
       "    </tr>\n",
       "    <tr>\n",
       "      <th>168977</th>\n",
       "      <td>1</td>\n",
       "      <td>2015-03-02</td>\n",
       "      <td>2015-04-20</td>\n",
       "      <td>2015-03-21</td>\n",
       "      <td>30</td>\n",
       "      <td>6</td>\n",
       "      <td>3</td>\n",
       "      <td>0</td>\n",
       "      <td>4</td>\n",
       "    </tr>\n",
       "    <tr>\n",
       "      <th>168978</th>\n",
       "      <td>1</td>\n",
       "      <td>2010-01-11</td>\n",
       "      <td>2010-02-22</td>\n",
       "      <td>2010-01-21</td>\n",
       "      <td>31</td>\n",
       "      <td>4</td>\n",
       "      <td>1</td>\n",
       "      <td>0</td>\n",
       "      <td>2</td>\n",
       "    </tr>\n",
       "  </tbody>\n",
       "</table>\n",
       "<p>168979 rows × 9 columns</p>\n",
       "</div>"
      ],
      "text/plain": [
       "        state date_creation   date_end date_launch  duration  weekday_launch  \\\n",
       "0           1    2017-08-02 2017-09-09  2017-08-10        30               4   \n",
       "1           1    2012-09-30 2013-06-12  2013-05-13        30               1   \n",
       "2           0    2017-01-07 2017-03-13  2017-01-12        59               4   \n",
       "3           1    2012-12-06 2013-01-09  2012-12-10        30               1   \n",
       "4           1    2014-10-24 2015-05-02  2015-04-02        30               4   \n",
       "...       ...           ...        ...         ...       ...             ...   \n",
       "168974      1    2014-07-17 2014-10-01  2014-08-04        58               1   \n",
       "168975      1    2017-04-24 2017-06-19  2017-05-14        36               7   \n",
       "168976      1    2012-07-03 2012-09-17  2012-08-14        33               2   \n",
       "168977      1    2015-03-02 2015-04-20  2015-03-21        30               6   \n",
       "168978      1    2010-01-11 2010-02-22  2010-01-21        31               4   \n",
       "\n",
       "        month_launch  weekday_end  month_end  \n",
       "0                  8            5          9  \n",
       "1                  5            2          6  \n",
       "2                  1            0          3  \n",
       "3                 12            2          1  \n",
       "4                  4            5          5  \n",
       "...              ...          ...        ...  \n",
       "168974             8            2         10  \n",
       "168975             5            0          6  \n",
       "168976             8            0          9  \n",
       "168977             3            0          4  \n",
       "168978             1            0          2  \n",
       "\n",
       "[168979 rows x 9 columns]"
      ]
     },
     "execution_count": 332,
     "metadata": {},
     "output_type": "execute_result"
    }
   ],
   "source": [
    "df"
   ]
  },
  {
   "cell_type": "markdown",
   "metadata": {},
   "source": [
    "# EDA"
   ]
  },
  {
   "cell_type": "code",
   "execution_count": 333,
   "metadata": {},
   "outputs": [
    {
     "name": "stdout",
     "output_type": "stream",
     "text": [
      "<class 'pandas.core.frame.DataFrame'>\n",
      "RangeIndex: 168979 entries, 0 to 168978\n",
      "Data columns (total 9 columns):\n",
      " #   Column          Non-Null Count   Dtype         \n",
      "---  ------          --------------   -----         \n",
      " 0   state           168979 non-null  int64         \n",
      " 1   date_creation   168979 non-null  datetime64[ns]\n",
      " 2   date_end        168979 non-null  datetime64[ns]\n",
      " 3   date_launch     168979 non-null  datetime64[ns]\n",
      " 4   duration        168979 non-null  int64         \n",
      " 5   weekday_launch  168979 non-null  int64         \n",
      " 6   month_launch    168979 non-null  int64         \n",
      " 7   weekday_end     168979 non-null  int64         \n",
      " 8   month_end       168979 non-null  int64         \n",
      "dtypes: datetime64[ns](3), int64(6)\n",
      "memory usage: 11.6 MB\n"
     ]
    }
   ],
   "source": [
    "df.info()"
   ]
  },
  {
   "cell_type": "markdown",
   "metadata": {},
   "source": [
    "### weekdays"
   ]
  },
  {
   "cell_type": "code",
   "execution_count": 334,
   "metadata": {},
   "outputs": [
    {
     "data": {
      "image/png": "[encoded data removed]",
      "text/plain": [
       "<Figure size 640x480 with 1 Axes>"
      ]
     },
     "metadata": {},
     "output_type": "display_data"
    }
   ],
   "source": [
    "b = sns.countplot(data=df, x='weekday_launch', hue='state')\n",
    "b.set_xticklabels(b.get_xticklabels(),rotation = 90, size = 10)\n",
    "plt.show()"
   ]
  },
  {
   "cell_type": "code",
   "execution_count": 335,
   "metadata": {},
   "outputs": [
    {
     "data": {
      "image/png": "[encoded data removed]",
      "text/plain": [
       "<Figure size 558.875x500 with 1 Axes>"
      ]
     },
     "metadata": {},
     "output_type": "display_data"
    }
   ],
   "source": [
    "x,y = 'weekday_launch', 'state'\n",
    "\n",
    "(df\n",
    ".groupby(x)[y]\n",
    ".value_counts(normalize=True)\n",
    ".mul(100)\n",
    ".rename('percent')\n",
    ".reset_index()\n",
    ".pipe((sns.catplot,'data'), x=x,y='percent',hue=y,kind='bar'));"
   ]
  },
  {
   "cell_type": "markdown",
   "metadata": {},
   "source": [
    "### overview - duration"
   ]
  },
  {
   "cell_type": "code",
   "execution_count": 336,
   "metadata": {},
   "outputs": [
    {
     "data": {
      "image/png": "[encoded data removed]",
      "text/plain": [
       "<Figure size 640x480 with 1 Axes>"
      ]
     },
     "metadata": {},
     "output_type": "display_data"
    }
   ],
   "source": [
    "#sns.displot(data=df, x='duration', hue='state', kind = 'kde');\n",
    "sns.kdeplot(data=df, x=\"duration\", hue=\"state\");"
   ]
  },
  {
   "cell_type": "code",
   "execution_count": 337,
   "metadata": {},
   "outputs": [
    {
     "name": "stdout",
     "output_type": "stream",
     "text": [
      "min. duration time in data  1\n",
      "max. duration time in data  93\n"
     ]
    }
   ],
   "source": [
    "print('min. duration time in data ', df.duration.min())\n",
    "print('max. duration time in data ', df.duration.max())"
   ]
  },
  {
   "cell_type": "code",
   "execution_count": 338,
   "metadata": {},
   "outputs": [
    {
     "name": "stdout",
     "output_type": "stream",
     "text": [
      "modus duration time in data  0    30\n",
      "dtype: int64\n"
     ]
    }
   ],
   "source": [
    "print('modus duration time in data ', df.duration.mode())"
   ]
  },
  {
   "cell_type": "code",
   "execution_count": 339,
   "metadata": {},
   "outputs": [],
   "source": [
    "df.description()"
   ]
  },
  {
   "cell_type": "code",
   "execution_count": 340,
   "metadata": {},
   "outputs": [
    {
     "data": {
      "image/png": "[encoded data removed]",
      "text/plain": [
       "<Figure size 558.875x500 with 1 Axes>"
      ]
     },
     "metadata": {},
     "output_type": "display_data"
    }
   ],
   "source": [
    "x,y = 'duration', 'state'\n",
    "\n",
    "(df\n",
    ".groupby(x)[y]\n",
    ".value_counts(normalize=True)\n",
    ".mul(100)\n",
    ".rename('percent')\n",
    ".reset_index()\n",
    ".pipe((sns.catplot,'data'), x=x,y='percent',hue=y, kind = 'swarm'));"
   ]
  },
  {
   "cell_type": "code",
   "execution_count": 344,
   "metadata": {},
   "outputs": [
    {
     "data": {
      "image/png": "[encoded data removed]",
      "text/plain": [
       "<Figure size 640x480 with 1 Axes>"
      ]
     },
     "metadata": {},
     "output_type": "display_data"
    }
   ],
   "source": [
    "sns.boxplot(y = df['duration'], x = df['state']);"
   ]
  },
  {
   "cell_type": "markdown",
   "metadata": {},
   "source": [
    "### month"
   ]
  },
  {
   "cell_type": "code",
   "execution_count": 347,
   "metadata": {},
   "outputs": [
    {
     "data": {
      "image/png": "[encoded data removed]",
      "text/plain": [
       "<Figure size 640x480 with 1 Axes>"
      ]
     },
     "metadata": {},
     "output_type": "display_data"
    }
   ],
   "source": [
    "sns.histplot(data=df, x='month_launch', hue='state'); #, kind = 'hist'"
   ]
  },
  {
   "cell_type": "markdown",
   "metadata": {},
   "source": [
    "### correlation"
   ]
  },
  {
   "cell_type": "code",
   "execution_count": 348,
   "metadata": {},
   "outputs": [],
   "source": [
    "#additional dataframe for a heatmap - didn't work\n",
    "# df_wo_date = df.copy()\n",
    "# df_wo_date = df_wo_date.drop('date_creation', axis = 1).drop('date_end', axis = 1).drop('date_launch', axis = 1)\n",
    "# sns.heatmap(df_wo_date, annot=True)"
   ]
  },
  {
   "cell_type": "code",
   "execution_count": 349,
   "metadata": {},
   "outputs": [
    {
     "data": {
      "text/html": [
       "<div>\n",
       "<style scoped>\n",
       "    .dataframe tbody tr th:only-of-type {\n",
       "        vertical-align: middle;\n",
       "    }\n",
       "\n",
       "    .dataframe tbody tr th {\n",
       "        vertical-align: top;\n",
       "    }\n",
       "\n",
       "    .dataframe thead th {\n",
       "        text-align: right;\n",
       "    }\n",
       "</style>\n",
       "<table border=\"1\" class=\"dataframe\">\n",
       "  <thead>\n",
       "    <tr style=\"text-align: right;\">\n",
       "      <th></th>\n",
       "      <th>state</th>\n",
       "      <th>duration</th>\n",
       "      <th>weekday_launch</th>\n",
       "      <th>month_launch</th>\n",
       "      <th>weekday_end</th>\n",
       "      <th>month_end</th>\n",
       "    </tr>\n",
       "  </thead>\n",
       "  <tbody>\n",
       "    <tr>\n",
       "      <th>state</th>\n",
       "      <td>1.000000</td>\n",
       "      <td>-0.153926</td>\n",
       "      <td>-0.022763</td>\n",
       "      <td>-0.013544</td>\n",
       "      <td>-0.017677</td>\n",
       "      <td>0.000879</td>\n",
       "    </tr>\n",
       "    <tr>\n",
       "      <th>duration</th>\n",
       "      <td>-0.153926</td>\n",
       "      <td>1.000000</td>\n",
       "      <td>0.013229</td>\n",
       "      <td>0.018764</td>\n",
       "      <td>0.022608</td>\n",
       "      <td>-0.016753</td>\n",
       "    </tr>\n",
       "    <tr>\n",
       "      <th>weekday_launch</th>\n",
       "      <td>-0.022763</td>\n",
       "      <td>0.013229</td>\n",
       "      <td>1.000000</td>\n",
       "      <td>-0.011486</td>\n",
       "      <td>-0.008721</td>\n",
       "      <td>-0.017088</td>\n",
       "    </tr>\n",
       "    <tr>\n",
       "      <th>month_launch</th>\n",
       "      <td>-0.013544</td>\n",
       "      <td>0.018764</td>\n",
       "      <td>-0.011486</td>\n",
       "      <td>1.000000</td>\n",
       "      <td>-0.005491</td>\n",
       "      <td>0.619723</td>\n",
       "    </tr>\n",
       "    <tr>\n",
       "      <th>weekday_end</th>\n",
       "      <td>-0.017677</td>\n",
       "      <td>0.022608</td>\n",
       "      <td>-0.008721</td>\n",
       "      <td>-0.005491</td>\n",
       "      <td>1.000000</td>\n",
       "      <td>-0.000887</td>\n",
       "    </tr>\n",
       "    <tr>\n",
       "      <th>month_end</th>\n",
       "      <td>0.000879</td>\n",
       "      <td>-0.016753</td>\n",
       "      <td>-0.017088</td>\n",
       "      <td>0.619723</td>\n",
       "      <td>-0.000887</td>\n",
       "      <td>1.000000</td>\n",
       "    </tr>\n",
       "  </tbody>\n",
       "</table>\n",
       "</div>"
      ],
      "text/plain": [
       "                   state  duration  weekday_launch  month_launch  weekday_end  \\\n",
       "state           1.000000 -0.153926       -0.022763     -0.013544    -0.017677   \n",
       "duration       -0.153926  1.000000        0.013229      0.018764     0.022608   \n",
       "weekday_launch -0.022763  0.013229        1.000000     -0.011486    -0.008721   \n",
       "month_launch   -0.013544  0.018764       -0.011486      1.000000    -0.005491   \n",
       "weekday_end    -0.017677  0.022608       -0.008721     -0.005491     1.000000   \n",
       "month_end       0.000879 -0.016753       -0.017088      0.619723    -0.000887   \n",
       "\n",
       "                month_end  \n",
       "state            0.000879  \n",
       "duration        -0.016753  \n",
       "weekday_launch  -0.017088  \n",
       "month_launch     0.619723  \n",
       "weekday_end     -0.000887  \n",
       "month_end        1.000000  "
      ]
     },
     "execution_count": 349,
     "metadata": {},
     "output_type": "execute_result"
    }
   ],
   "source": [
    "df.corr()"
   ]
  },
  {
   "cell_type": "code",
   "execution_count": 350,
   "metadata": {},
   "outputs": [
    {
     "data": {
      "image/png": "[encoded data removed]",
      "text/plain": [
       "<Figure size 640x480 with 2 Axes>"
      ]
     },
     "metadata": {},
     "output_type": "display_data"
    }
   ],
   "source": [
    "#correlation plot\n",
    "ax = sns.heatmap(df.corr(), annot=True)"
   ]
  },
  {
   "cell_type": "markdown",
   "metadata": {},
   "source": [
    "# Simple model"
   ]
  },
  {
   "cell_type": "code",
   "execution_count": 351,
   "metadata": {},
   "outputs": [],
   "source": [
    "# Defining target and predictors \n",
    "y = df['state'] #target\n",
    "X = df.drop('state', axis = 1).drop('date_creation', axis = 1).drop('date_end', axis = 1).drop('date_launch', axis = 1) #predictors"
   ]
  },
  {
   "cell_type": "code",
   "execution_count": 352,
   "metadata": {},
   "outputs": [],
   "source": [
    "# Train-test-split \n",
    "X_train, X_test, y_train, y_test = train_test_split(X, y, test_size=0.25, random_state=RSEED)"
   ]
  },
  {
   "cell_type": "code",
   "execution_count": 353,
   "metadata": {},
   "outputs": [],
   "source": [
    "# Scaling with MinMaxScaler\n",
    "minmax = MinMaxScaler()\n",
    "X_train_scaled = minmax.fit_transform(X_train)\n",
    "X_test_scaled = minmax.transform(X_test)"
   ]
  },
  {
   "cell_type": "code",
   "execution_count": 354,
   "metadata": {},
   "outputs": [],
   "source": [
    "# Modelling\n",
    "logistic_regression = LogisticRegression(max_iter=200)\n",
    "logistic_regression.fit(X_train_scaled, y_train)\n",
    "y_pred = logistic_regression.predict(X_test_scaled)"
   ]
  },
  {
   "cell_type": "code",
   "execution_count": 355,
   "metadata": {},
   "outputs": [
    {
     "name": "stdout",
     "output_type": "stream",
     "text": [
      "Accuracy:  0.5879512368327613\n"
     ]
    }
   ],
   "source": [
    "print('Accuracy: ',metrics.accuracy_score(y_test, y_pred))"
   ]
  },
  {
   "cell_type": "code",
   "execution_count": 356,
   "metadata": {},
   "outputs": [
    {
     "name": "stdout",
     "output_type": "stream",
     "text": [
      "classification_report: \n",
      "              precision    recall  f1-score   support\n",
      "\n",
      "           0       0.57      0.22      0.32     18431\n",
      "           1       0.59      0.87      0.70     23814\n",
      "\n",
      "    accuracy                           0.59     42245\n",
      "   macro avg       0.58      0.55      0.51     42245\n",
      "weighted avg       0.58      0.59      0.54     42245\n",
      "\n"
     ]
    },
    {
     "data": {
      "image/png": "[encoded data removed]",
      "text/plain": [
       "<Figure size 640x480 with 2 Axes>"
      ]
     },
     "metadata": {},
     "output_type": "display_data"
    }
   ],
   "source": [
    "# Confusion matrix using confusion_matrix from sklearn\n",
    "cfm = metrics.confusion_matrix(y_test, y_pred)\n",
    "sns.heatmap(cfm, cmap='YlGnBu', annot=True, fmt='d', linewidths=.5);\n",
    "\n",
    "print ('classification_report: ')\n",
    "print (metrics.classification_report(y_test, y_pred))"
   ]
  },
  {
   "cell_type": "code",
   "execution_count": 357,
   "metadata": {},
   "outputs": [],
   "source": [
    "#function for the whole process\n",
    "\n",
    "def simple_model(X,y,RSEED = 42):\n",
    "    # Train-test-split \n",
    "    X_train, X_test, y_train, y_test = train_test_split(X, y, test_size=0.25, random_state=RSEED)\n",
    "    # Scaling with MinMaxScaler\n",
    "    minmax = MinMaxScaler()\n",
    "    X_train_scaled = minmax.fit_transform(X_train)\n",
    "    X_test_scaled = minmax.transform(X_test)\n",
    "    # Modelling\n",
    "    logistic_regression = LogisticRegression(max_iter=200)\n",
    "    logistic_regression.fit(X_train_scaled, y_train)\n",
    "    y_pred = logistic_regression.predict(X_test_scaled)\n",
    "    print('[simple model WITH scaler]')\n",
    "    print('Accuracy: ',metrics.accuracy_score(y_test, y_pred))\n",
    "    # Confusion matrix using confusion_matrix from sklearn\n",
    "    cfm = metrics.confusion_matrix(y_test, y_pred)\n",
    "    print(sns.heatmap(cfm, cmap='YlGnBu', annot=True, fmt='d', linewidths=.5))\n",
    "    print ('classification_report: ')\n",
    "    print (metrics.classification_report(y_test, y_pred))"
   ]
  },
  {
   "cell_type": "markdown",
   "metadata": {},
   "source": [
    "### simple model with less features"
   ]
  },
  {
   "cell_type": "code",
   "execution_count": 358,
   "metadata": {},
   "outputs": [
    {
     "name": "stdout",
     "output_type": "stream",
     "text": [
      "[simple model WITH scaler]\n",
      "Accuracy:  0.5884009942004971\n",
      "AxesSubplot(0.125,0.11;0.62x0.77)\n",
      "classification_report: \n",
      "              precision    recall  f1-score   support\n",
      "\n",
      "           0       0.57      0.22      0.32     18431\n",
      "           1       0.59      0.87      0.70     23814\n",
      "\n",
      "    accuracy                           0.59     42245\n",
      "   macro avg       0.58      0.55      0.51     42245\n",
      "weighted avg       0.58      0.59      0.54     42245\n",
      "\n"
     ]
    },
    {
     "data": {
      "image/png": "[encoded data removed]",
      "text/plain": [
       "<Figure size 640x480 with 2 Axes>"
      ]
     },
     "metadata": {},
     "output_type": "display_data"
    }
   ],
   "source": [
    "#DELETE month_end and weekday_end\n",
    "# Defining target and predictors \n",
    "y = df['state'] #target\n",
    "X = df.drop('state', axis = 1).drop('date_creation', axis = 1).drop('date_end', axis = 1).drop('date_launch', axis = 1).drop('month_end', axis = 1).drop('weekday_end', axis = 1) #predictors\n",
    "\n",
    "simple_model(X,y)"
   ]
  },
  {
   "cell_type": "code",
   "execution_count": 359,
   "metadata": {},
   "outputs": [],
   "source": [
    "#function process without scaler\n",
    "\n",
    "def simple_model_wo_scaler(X,y,RSEED = 42):\n",
    "    # Train-test-split \n",
    "    X_train, X_test, y_train, y_test = train_test_split(X, y, test_size=0.25, random_state=RSEED)\n",
    "    # Modelling\n",
    "    logistic_regression = LogisticRegression(max_iter=200)\n",
    "    logistic_regression.fit(X_train, y_train)\n",
    "    y_pred = logistic_regression.predict(X_test)\n",
    "    print('[simple model WITHOUT scaler]')\n",
    "    print('Accuracy: ',metrics.accuracy_score(y_test, y_pred))\n",
    "    # Confusion matrix using confusion_matrix from sklearn\n",
    "    cfm = metrics.confusion_matrix(y_test, y_pred)\n",
    "    print(sns.heatmap(cfm, cmap='YlGnBu', annot=True, fmt='d', linewidths=.5))\n",
    "    print ('classification_report: ')\n",
    "    print (metrics.classification_report(y_test, y_pred))"
   ]
  },
  {
   "cell_type": "markdown",
   "metadata": {},
   "source": [
    "### simple model only state and duration"
   ]
  },
  {
   "cell_type": "code",
   "execution_count": 360,
   "metadata": {},
   "outputs": [
    {
     "name": "stdout",
     "output_type": "stream",
     "text": [
      "[simple model WITH scaler]\n",
      "Accuracy:  0.5884009942004971\n",
      "AxesSubplot(0.125,0.11;0.62x0.77)\n",
      "classification_report: \n",
      "              precision    recall  f1-score   support\n",
      "\n",
      "           0       0.57      0.22      0.32     18431\n",
      "           1       0.59      0.87      0.71     23814\n",
      "\n",
      "    accuracy                           0.59     42245\n",
      "   macro avg       0.58      0.55      0.51     42245\n",
      "weighted avg       0.58      0.59      0.54     42245\n",
      "\n",
      "[simple model WITHOUT scaler]\n",
      "Accuracy:  0.5884009942004971\n",
      "AxesSubplot(0.125,0.11;0.496x0.77)\n",
      "classification_report: \n",
      "              precision    recall  f1-score   support\n",
      "\n",
      "           0       0.57      0.22      0.32     18431\n",
      "           1       0.59      0.87      0.71     23814\n",
      "\n",
      "    accuracy                           0.59     42245\n",
      "   macro avg       0.58      0.55      0.51     42245\n",
      "weighted avg       0.58      0.59      0.54     42245\n",
      "\n"
     ]
    },
    {
     "data": {
      "image/png": "[encoded data removed]",
      "text/plain": [
       "<Figure size 640x480 with 3 Axes>"
      ]
     },
     "metadata": {},
     "output_type": "display_data"
    }
   ],
   "source": [
    "y = df['state'] #target\n",
    "X = df[['duration']] #predictor\n",
    "\n",
    "simple_model(X,y)\n",
    "simple_model_wo_scaler(X,y)"
   ]
  },
  {
   "cell_type": "markdown",
   "metadata": {},
   "source": [
    "### simple model only state and weekday_launch"
   ]
  },
  {
   "cell_type": "code",
   "execution_count": 361,
   "metadata": {},
   "outputs": [
    {
     "name": "stdout",
     "output_type": "stream",
     "text": [
      "[simple model WITH scaler]\n",
      "Accuracy:  0.563711681855841\n",
      "AxesSubplot(0.125,0.11;0.62x0.77)\n",
      "classification_report: \n",
      "              precision    recall  f1-score   support\n",
      "\n",
      "           0       0.00      0.00      0.00     18431\n",
      "           1       0.56      1.00      0.72     23814\n",
      "\n",
      "    accuracy                           0.56     42245\n",
      "   macro avg       0.28      0.50      0.36     42245\n",
      "weighted avg       0.32      0.56      0.41     42245\n",
      "\n",
      "[simple model WITHOUT scaler]\n",
      "Accuracy:  0.563711681855841\n",
      "AxesSubplot(0.125,0.11;0.496x0.77)\n",
      "classification_report: \n",
      "              precision    recall  f1-score   support\n",
      "\n",
      "           0       0.00      0.00      0.00     18431\n",
      "           1       0.56      1.00      0.72     23814\n",
      "\n",
      "    accuracy                           0.56     42245\n",
      "   macro avg       0.28      0.50      0.36     42245\n",
      "weighted avg       0.32      0.56      0.41     42245\n",
      "\n"
     ]
    },
    {
     "data": {
      "image/png": "[encoded data removed]",
      "text/plain": [
       "<Figure size 640x480 with 3 Axes>"
      ]
     },
     "metadata": {},
     "output_type": "display_data"
    }
   ],
   "source": [
    "y = df['state'] #target\n",
    "X = df[['weekday_launch']] #predictor\n",
    "\n",
    "simple_model(X,y)\n",
    "simple_model_wo_scaler(X,y)"
   ]
  },
  {
   "cell_type": "markdown",
   "metadata": {},
   "source": [
    "### simple model only state and weekday_end"
   ]
  },
  {
   "cell_type": "code",
   "execution_count": 362,
   "metadata": {},
   "outputs": [
    {
     "name": "stdout",
     "output_type": "stream",
     "text": [
      "[simple model WITH scaler]\n",
      "Accuracy:  0.563711681855841\n",
      "AxesSubplot(0.125,0.11;0.62x0.77)\n",
      "classification_report: \n",
      "              precision    recall  f1-score   support\n",
      "\n",
      "           0       0.00      0.00      0.00     18431\n",
      "           1       0.56      1.00      0.72     23814\n",
      "\n",
      "    accuracy                           0.56     42245\n",
      "   macro avg       0.28      0.50      0.36     42245\n",
      "weighted avg       0.32      0.56      0.41     42245\n",
      "\n",
      "[simple model WITHOUT scaler]\n",
      "Accuracy:  0.563711681855841\n",
      "AxesSubplot(0.125,0.11;0.496x0.77)\n",
      "classification_report: \n",
      "              precision    recall  f1-score   support\n",
      "\n",
      "           0       0.00      0.00      0.00     18431\n",
      "           1       0.56      1.00      0.72     23814\n",
      "\n",
      "    accuracy                           0.56     42245\n",
      "   macro avg       0.28      0.50      0.36     42245\n",
      "weighted avg       0.32      0.56      0.41     42245\n",
      "\n"
     ]
    },
    {
     "data": {
      "image/png": "[encoded data removed]",
      "text/plain": [
       "<Figure size 640x480 with 3 Axes>"
      ]
     },
     "metadata": {},
     "output_type": "display_data"
    }
   ],
   "source": [
    "y = df['state'] #target\n",
    "X = df[['weekday_end']] #predictor\n",
    "\n",
    "simple_model(X,y)\n",
    "simple_model_wo_scaler(X,y)"
   ]
  },
  {
   "cell_type": "code",
   "execution_count": 363,
   "metadata": {},
   "outputs": [
    {
     "name": "stdout",
     "output_type": "stream",
     "text": [
      "[simple model WITH scaler]\n",
      "Accuracy:  0.563711681855841\n",
      "AxesSubplot(0.125,0.11;0.62x0.77)\n",
      "classification_report: \n",
      "              precision    recall  f1-score   support\n",
      "\n",
      "           0       0.00      0.00      0.00     18431\n",
      "           1       0.56      1.00      0.72     23814\n",
      "\n",
      "    accuracy                           0.56     42245\n",
      "   macro avg       0.28      0.50      0.36     42245\n",
      "weighted avg       0.32      0.56      0.41     42245\n",
      "\n"
     ]
    },
    {
     "data": {
      "image/png": "[encoded data removed]",
      "text/plain": [
       "<Figure size 640x480 with 2 Axes>"
      ]
     },
     "metadata": {},
     "output_type": "display_data"
    }
   ],
   "source": [
    "y = df['state'] #target\n",
    "X = df[['month_launch']] #predictor\n",
    "\n",
    "simple_model(X,y)\n",
    "#simple_model_wo_scaler(X,y)"
   ]
  },
  {
   "cell_type": "markdown",
   "metadata": {},
   "source": [
    "# Fancy model"
   ]
  },
  {
   "cell_type": "markdown",
   "metadata": {},
   "source": [
    "## decision tree"
   ]
  },
  {
   "cell_type": "code",
   "execution_count": 364,
   "metadata": {},
   "outputs": [],
   "source": [
    "# function for decision tree modelling WITHOUT scaler\n",
    "def decision_tree(X,y,RSEED = 42):\n",
    "    #train-test-split\n",
    "    X_train, X_test, y_train, y_test = train_test_split(X, y, test_size=0.25, random_state=RSEED, stratify=y)\n",
    "\n",
    "    #define model\n",
    "    clf_gini = DecisionTreeClassifier()\n",
    "\n",
    "    #modelling\n",
    "    clf_gini.fit(X_train, y_train)\n",
    "\n",
    "    #predict with \"test\" data\n",
    "    y_pred = clf_gini.predict(X_test)\n",
    "\n",
    "    #just for fun\n",
    "    y_pred_train = clf_gini.predict(X_train)\n",
    "\n",
    "    #print accuracy for test and train data\n",
    "    print('model WITHOUT scaler')\n",
    "    print('Accuracy on test data: ', round(metrics.accuracy_score(y_test, y_pred), 2))\n",
    "    print('Accuracy on train data: ', round(metrics.accuracy_score(y_train, y_pred_train), 2))\n",
    "\n",
    "    #classification report\n",
    "    print(classification_report(y_test, y_pred))\n",
    "\n",
    "    #confusion matrix using pandas crosstab\n",
    "    confusion_matrix = pd.crosstab(y_test, y_pred, rownames=['actual'], colnames=['predicted'])\n",
    "    print(confusion_matrix)"
   ]
  },
  {
   "cell_type": "code",
   "execution_count": 365,
   "metadata": {},
   "outputs": [],
   "source": [
    "# function for decision tree modelling WITH scaler\n",
    "def decision_tree_scaler(X,y,RSEED = 42):\n",
    "        #train-test-split\n",
    "    X_train, X_test, y_train, y_test = train_test_split(X, y, test_size=0.25, random_state=RSEED, stratify=y)\n",
    "\n",
    "    # Scaling with MinMaxScaler\n",
    "    minmax = MinMaxScaler()\n",
    "    X_train = minmax.fit_transform(X_train)\n",
    "    X_test = minmax.transform(X_test)\n",
    "    \n",
    "    #define model\n",
    "    clf_gini = DecisionTreeClassifier()\n",
    "\n",
    "    #modelling\n",
    "    clf_gini.fit(X_train, y_train)\n",
    "\n",
    "    #predict with \"test\" data\n",
    "    y_pred = clf_gini.predict(X_test)\n",
    "\n",
    "    #just for fun\n",
    "    y_pred_train = clf_gini.predict(X_train)\n",
    "\n",
    "    #print accuracy for test and train data\n",
    "    print('model WITH scaler')\n",
    "    print('Accuracy on test data: ', round(metrics.accuracy_score(y_test, y_pred), 2))\n",
    "    print('Accuracy on train data: ', round(metrics.accuracy_score(y_train, y_pred_train), 2))\n",
    "\n",
    "    #classification report\n",
    "    print(classification_report(y_test, y_pred))\n",
    "\n",
    "    #confusion matrix using pandas crosstab\n",
    "    confusion_matrix = pd.crosstab(y_test, y_pred, rownames=['actual'], colnames=['predicted'])\n",
    "    print(confusion_matrix)"
   ]
  },
  {
   "cell_type": "code",
   "execution_count": 366,
   "metadata": {},
   "outputs": [
    {
     "name": "stdout",
     "output_type": "stream",
     "text": [
      "model WITHOUT scaler\n",
      "Accuracy on test data:  0.58\n",
      "Accuracy on train data:  0.64\n",
      "              precision    recall  f1-score   support\n",
      "\n",
      "           0       0.53      0.40      0.46     18550\n",
      "           1       0.61      0.72      0.66     23695\n",
      "\n",
      "    accuracy                           0.58     42245\n",
      "   macro avg       0.57      0.56      0.56     42245\n",
      "weighted avg       0.57      0.58      0.57     42245\n",
      "\n",
      "predicted     0      1\n",
      "actual                \n",
      "0          7488  11062\n",
      "1          6751  16944\n",
      "model WITH scaler\n",
      "Accuracy on test data:  0.58\n",
      "Accuracy on train data:  0.64\n",
      "              precision    recall  f1-score   support\n",
      "\n",
      "           0       0.53      0.40      0.46     18550\n",
      "           1       0.61      0.72      0.66     23695\n",
      "\n",
      "    accuracy                           0.58     42245\n",
      "   macro avg       0.57      0.56      0.56     42245\n",
      "weighted avg       0.57      0.58      0.57     42245\n",
      "\n",
      "predicted     0      1\n",
      "actual                \n",
      "0          7499  11051\n",
      "1          6733  16962\n"
     ]
    }
   ],
   "source": [
    "#define X and y - columns without date type\n",
    "y = df['state'] #target\n",
    "X = df.drop('state', axis = 1).drop('date_creation', axis = 1).drop('date_end', axis = 1).drop('date_launch', axis = 1) #predictors\n",
    "\n",
    "#run the models\n",
    "decision_tree(X,y)\n",
    "decision_tree_scaler(X,y)\n"
   ]
  },
  {
   "cell_type": "code",
   "execution_count": 367,
   "metadata": {},
   "outputs": [
    {
     "name": "stdout",
     "output_type": "stream",
     "text": [
      "model WITHOUT scaler\n",
      "Accuracy on test data:  0.59\n",
      "Accuracy on train data:  0.62\n",
      "              precision    recall  f1-score   support\n",
      "\n",
      "           0       0.55      0.35      0.43     18550\n",
      "           1       0.61      0.78      0.68     23695\n",
      "\n",
      "    accuracy                           0.59     42245\n",
      "   macro avg       0.58      0.56      0.56     42245\n",
      "weighted avg       0.58      0.59      0.57     42245\n",
      "\n",
      "predicted     0      1\n",
      "actual                \n",
      "0          6573  11977\n",
      "1          5329  18366\n",
      "model WITH scaler\n",
      "Accuracy on test data:  0.59\n",
      "Accuracy on train data:  0.62\n",
      "              precision    recall  f1-score   support\n",
      "\n",
      "           0       0.55      0.35      0.43     18550\n",
      "           1       0.61      0.78      0.68     23695\n",
      "\n",
      "    accuracy                           0.59     42245\n",
      "   macro avg       0.58      0.56      0.56     42245\n",
      "weighted avg       0.58      0.59      0.57     42245\n",
      "\n",
      "predicted     0      1\n",
      "actual                \n",
      "0          6572  11978\n",
      "1          5328  18367\n"
     ]
    }
   ],
   "source": [
    "#define X and y - columns without date type, and without end_weekday + _month\n",
    "y = df['state'] #target\n",
    "X = df.drop('state', axis = 1).drop('date_creation', axis = 1).drop('date_end', axis = 1).drop('date_launch', axis = 1).drop('month_end', axis = 1).drop('weekday_end', axis = 1) #predictors\n",
    "\n",
    "#run the models\n",
    "decision_tree(X,y)\n",
    "decision_tree_scaler(X,y)"
   ]
  },
  {
   "cell_type": "code",
   "execution_count": 368,
   "metadata": {},
   "outputs": [
    {
     "name": "stdout",
     "output_type": "stream",
     "text": [
      "model WITHOUT scaler\n",
      "Accuracy on test data:  0.6\n",
      "Accuracy on train data:  0.6\n",
      "              precision    recall  f1-score   support\n",
      "\n",
      "           0       0.64      0.20      0.30     18550\n",
      "           1       0.59      0.91      0.72     23695\n",
      "\n",
      "    accuracy                           0.60     42245\n",
      "   macro avg       0.61      0.55      0.51     42245\n",
      "weighted avg       0.61      0.60      0.53     42245\n",
      "\n",
      "predicted     0      1\n",
      "actual                \n",
      "0          3634  14916\n",
      "1          2083  21612\n",
      "model WITH scaler\n",
      "Accuracy on test data:  0.6\n",
      "Accuracy on train data:  0.6\n",
      "              precision    recall  f1-score   support\n",
      "\n",
      "           0       0.64      0.20      0.30     18550\n",
      "           1       0.59      0.91      0.72     23695\n",
      "\n",
      "    accuracy                           0.60     42245\n",
      "   macro avg       0.61      0.55      0.51     42245\n",
      "weighted avg       0.61      0.60      0.53     42245\n",
      "\n",
      "predicted     0      1\n",
      "actual                \n",
      "0          3634  14916\n",
      "1          2083  21612\n"
     ]
    }
   ],
   "source": [
    "#define X and y - only state and duration\n",
    "y = df['state'] #target\n",
    "X = df[['duration']] #predictors\n",
    "\n",
    "#run the models\n",
    "decision_tree(X,y)\n",
    "decision_tree_scaler(X,y)"
   ]
  },
  {
   "cell_type": "code",
   "execution_count": 369,
   "metadata": {},
   "outputs": [
    {
     "name": "stdout",
     "output_type": "stream",
     "text": [
      "model WITHOUT scaler\n",
      "Accuracy on test data:  0.56\n",
      "Accuracy on train data:  0.56\n",
      "              precision    recall  f1-score   support\n",
      "\n",
      "           0       0.00      0.00      0.00     18550\n",
      "           1       0.56      1.00      0.72     23695\n",
      "\n",
      "    accuracy                           0.56     42245\n",
      "   macro avg       0.28      0.50      0.36     42245\n",
      "weighted avg       0.31      0.56      0.40     42245\n",
      "\n",
      "predicted      1\n",
      "actual          \n",
      "0          18550\n",
      "1          23695\n",
      "model WITH scaler\n",
      "Accuracy on test data:  0.56\n",
      "Accuracy on train data:  0.56\n",
      "              precision    recall  f1-score   support\n",
      "\n",
      "           0       0.00      0.00      0.00     18550\n",
      "           1       0.56      1.00      0.72     23695\n",
      "\n",
      "    accuracy                           0.56     42245\n",
      "   macro avg       0.28      0.50      0.36     42245\n",
      "weighted avg       0.31      0.56      0.40     42245\n",
      "\n",
      "predicted      1\n",
      "actual          \n",
      "0          18550\n",
      "1          23695\n"
     ]
    }
   ],
   "source": [
    "#define X and y - only state and weekday_launch\n",
    "y = df['state'] #target\n",
    "X = df[['weekday_launch']] #predictors\n",
    "\n",
    "#run the models\n",
    "decision_tree(X,y)\n",
    "decision_tree_scaler(X,y)"
   ]
  },
  {
   "cell_type": "code",
   "execution_count": 370,
   "metadata": {},
   "outputs": [
    {
     "name": "stdout",
     "output_type": "stream",
     "text": [
      "model WITHOUT scaler\n",
      "Accuracy on test data:  0.56\n",
      "Accuracy on train data:  0.56\n",
      "              precision    recall  f1-score   support\n",
      "\n",
      "           0       0.00      0.00      0.00     18550\n",
      "           1       0.56      1.00      0.72     23695\n",
      "\n",
      "    accuracy                           0.56     42245\n",
      "   macro avg       0.28      0.50      0.36     42245\n",
      "weighted avg       0.31      0.56      0.40     42245\n",
      "\n",
      "predicted      1\n",
      "actual          \n",
      "0          18550\n",
      "1          23695\n",
      "model WITH scaler\n",
      "Accuracy on test data:  0.56\n",
      "Accuracy on train data:  0.56\n",
      "              precision    recall  f1-score   support\n",
      "\n",
      "           0       0.00      0.00      0.00     18550\n",
      "           1       0.56      1.00      0.72     23695\n",
      "\n",
      "    accuracy                           0.56     42245\n",
      "   macro avg       0.28      0.50      0.36     42245\n",
      "weighted avg       0.31      0.56      0.40     42245\n",
      "\n",
      "predicted      1\n",
      "actual          \n",
      "0          18550\n",
      "1          23695\n"
     ]
    }
   ],
   "source": [
    "#define X and y - only state and month_launch\n",
    "y = df['state'] #target\n",
    "X = df[['month_launch']] #predictors\n",
    "\n",
    "#run the models\n",
    "decision_tree(X,y)\n",
    "decision_tree_scaler(X,y)"
   ]
  },
  {
   "cell_type": "code",
   "execution_count": 371,
   "metadata": {},
   "outputs": [
    {
     "name": "stdout",
     "output_type": "stream",
     "text": [
      "model WITHOUT scaler\n",
      "Accuracy on test data:  0.59\n",
      "Accuracy on train data:  0.62\n",
      "              precision    recall  f1-score   support\n",
      "\n",
      "           0       0.55      0.35      0.43     18550\n",
      "           1       0.61      0.78      0.68     23695\n",
      "\n",
      "    accuracy                           0.59     42245\n",
      "   macro avg       0.58      0.56      0.56     42245\n",
      "weighted avg       0.58      0.59      0.57     42245\n",
      "\n",
      "predicted     0      1\n",
      "actual                \n",
      "0          6573  11977\n",
      "1          5329  18366\n",
      "model WITH scaler\n",
      "Accuracy on test data:  0.59\n",
      "Accuracy on train data:  0.62\n",
      "              precision    recall  f1-score   support\n",
      "\n",
      "           0       0.55      0.35      0.43     18550\n",
      "           1       0.61      0.78      0.68     23695\n",
      "\n",
      "    accuracy                           0.59     42245\n",
      "   macro avg       0.58      0.56      0.56     42245\n",
      "weighted avg       0.58      0.59      0.57     42245\n",
      "\n",
      "predicted     0      1\n",
      "actual                \n",
      "0          6571  11979\n",
      "1          5326  18369\n"
     ]
    }
   ],
   "source": [
    "#define X and y - state, weekday_launch and month_launch\n",
    "y = df['state'] #target\n",
    "X = df[['duration', 'weekday_launch', 'month_launch']] #predictors\n",
    "\n",
    "#run the models\n",
    "decision_tree(X,y)\n",
    "decision_tree_scaler(X,y)"
   ]
  },
  {
   "cell_type": "markdown",
   "metadata": {},
   "source": [
    "## random forest"
   ]
  },
  {
   "cell_type": "code",
   "execution_count": 372,
   "metadata": {},
   "outputs": [],
   "source": [
    "# function for decision tree modelling WITH scaler\n",
    "def random_forest(X,y,RSEED = 42):\n",
    "        #train-test-split\n",
    "    X_train, X_test, y_train, y_test = train_test_split(X, y, test_size=0.25, random_state=RSEED, stratify=y)\n",
    "    \n",
    "    #define model\n",
    "    dr = RandomForestClassifier(random_state=RSEED)\n",
    "\n",
    "    #modelling\n",
    "    dr.fit(X_train, y_train)\n",
    "\n",
    "    #predict with \"test\" data\n",
    "    y_pred = dr.predict(X_test)\n",
    "\n",
    "    #just for fun\n",
    "    y_pred_train = dr.predict(X_train)\n",
    "\n",
    "    #print accuracy for test and train data\n",
    "    print('model WITH scaler')\n",
    "    print('Accuracy on test data: ', round(metrics.accuracy_score(y_test, y_pred), 2))\n",
    "    print('Accuracy on train data: ', round(metrics.accuracy_score(y_train, y_pred_train), 2))\n",
    "\n",
    "    #classification report\n",
    "    print(classification_report(y_test, y_pred))\n",
    "\n",
    "    #confusion matrix using pandas crosstab\n",
    "    confusion_matrix = pd.crosstab(y_test, y_pred, rownames=['actual'], colnames=['predicted'])\n",
    "    print(confusion_matrix)"
   ]
  },
  {
   "cell_type": "code",
   "execution_count": 373,
   "metadata": {},
   "outputs": [],
   "source": [
    "# function for decision tree modelling WITH scaler\n",
    "def random_forest_scaler(X,y,RSEED = 42):\n",
    "        #train-test-split\n",
    "    X_train, X_test, y_train, y_test = train_test_split(X, y, test_size=0.25, random_state=RSEED, stratify=y)\n",
    "\n",
    "    # Scaling with MinMaxScaler\n",
    "    minmax = MinMaxScaler()\n",
    "    X_train = minmax.fit_transform(X_train)\n",
    "    X_test = minmax.transform(X_test)\n",
    "    \n",
    "    #define model\n",
    "    dr = RandomForestClassifier(random_state=RSEED)\n",
    "\n",
    "    #modelling\n",
    "    dr.fit(X_train, y_train)\n",
    "\n",
    "    #predict with \"test\" data\n",
    "    y_pred = dr.predict(X_test)\n",
    "\n",
    "    #just for fun\n",
    "    y_pred_train = dr.predict(X_train)\n",
    "\n",
    "    #print accuracy for test and train data\n",
    "    print('model WITH scaler')\n",
    "    print('Accuracy on test data: ', round(metrics.accuracy_score(y_test, y_pred), 2))\n",
    "    print('Accuracy on train data: ', round(metrics.accuracy_score(y_train, y_pred_train), 2))\n",
    "\n",
    "    #classification report\n",
    "    print(classification_report(y_test, y_pred))\n",
    "\n",
    "    #confusion matrix using pandas crosstab\n",
    "    confusion_matrix = pd.crosstab(y_test, y_pred, rownames=['actual'], colnames=['predicted'])\n",
    "    print(confusion_matrix)"
   ]
  },
  {
   "cell_type": "code",
   "execution_count": 374,
   "metadata": {},
   "outputs": [
    {
     "name": "stdout",
     "output_type": "stream",
     "text": [
      "model WITH scaler\n",
      "Accuracy on test data:  0.59\n",
      "Accuracy on train data:  0.64\n",
      "              precision    recall  f1-score   support\n",
      "\n",
      "           0       0.54      0.39      0.45     18550\n",
      "           1       0.61      0.74      0.67     23695\n",
      "\n",
      "    accuracy                           0.59     42245\n",
      "   macro avg       0.57      0.57      0.56     42245\n",
      "weighted avg       0.58      0.59      0.57     42245\n",
      "\n",
      "predicted     0      1\n",
      "actual                \n",
      "0          7220  11330\n",
      "1          6142  17553\n",
      "model WITH scaler\n",
      "Accuracy on test data:  0.59\n",
      "Accuracy on train data:  0.64\n",
      "              precision    recall  f1-score   support\n",
      "\n",
      "           0       0.54      0.39      0.45     18550\n",
      "           1       0.61      0.74      0.67     23695\n",
      "\n",
      "    accuracy                           0.59     42245\n",
      "   macro avg       0.57      0.57      0.56     42245\n",
      "weighted avg       0.58      0.59      0.57     42245\n",
      "\n",
      "predicted     0      1\n",
      "actual                \n",
      "0          7222  11328\n",
      "1          6144  17551\n"
     ]
    }
   ],
   "source": [
    "#define X and y - columns without date type\n",
    "y = df['state'] #target\n",
    "X = df.drop('state', axis = 1).drop('date_creation', axis = 1).drop('date_end', axis = 1).drop('date_launch', axis = 1) #predictors\n",
    "\n",
    "#run the models\n",
    "random_forest(X,y)\n",
    "random_forest_scaler(X,y)\n"
   ]
  },
  {
   "cell_type": "code",
   "execution_count": 375,
   "metadata": {},
   "outputs": [
    {
     "name": "stdout",
     "output_type": "stream",
     "text": [
      "model WITH scaler\n",
      "Accuracy on test data:  0.59\n",
      "Accuracy on train data:  0.62\n",
      "              precision    recall  f1-score   support\n",
      "\n",
      "           0       0.56      0.34      0.42     18550\n",
      "           1       0.61      0.79      0.69     23695\n",
      "\n",
      "    accuracy                           0.59     42245\n",
      "   macro avg       0.58      0.57      0.56     42245\n",
      "weighted avg       0.59      0.59      0.57     42245\n",
      "\n",
      "predicted     0      1\n",
      "actual                \n",
      "0          6332  12218\n",
      "1          4954  18741\n",
      "model WITH scaler\n",
      "Accuracy on test data:  0.59\n",
      "Accuracy on train data:  0.62\n",
      "              precision    recall  f1-score   support\n",
      "\n",
      "           0       0.56      0.34      0.42     18550\n",
      "           1       0.61      0.79      0.69     23695\n",
      "\n",
      "    accuracy                           0.59     42245\n",
      "   macro avg       0.58      0.57      0.56     42245\n",
      "weighted avg       0.59      0.59      0.57     42245\n",
      "\n",
      "predicted     0      1\n",
      "actual                \n",
      "0          6335  12215\n",
      "1          4958  18737\n"
     ]
    }
   ],
   "source": [
    "#define X and y - columns without date type, and without end_weekday + _month\n",
    "y = df['state'] #target\n",
    "X = df.drop('state', axis = 1).drop('date_creation', axis = 1).drop('date_end', axis = 1).drop('date_launch', axis = 1).drop('month_end', axis = 1).drop('weekday_end', axis = 1) #predictors\n",
    "\n",
    "#run the models\n",
    "random_forest(X,y)\n",
    "random_forest_scaler(X,y)"
   ]
  },
  {
   "cell_type": "code",
   "execution_count": 376,
   "metadata": {},
   "outputs": [
    {
     "name": "stdout",
     "output_type": "stream",
     "text": [
      "model WITH scaler\n",
      "Accuracy on test data:  0.6\n",
      "Accuracy on train data:  0.6\n",
      "              precision    recall  f1-score   support\n",
      "\n",
      "           0       0.64      0.20      0.30     18550\n",
      "           1       0.59      0.91      0.72     23695\n",
      "\n",
      "    accuracy                           0.60     42245\n",
      "   macro avg       0.61      0.55      0.51     42245\n",
      "weighted avg       0.61      0.60      0.53     42245\n",
      "\n",
      "predicted     0      1\n",
      "actual                \n",
      "0          3634  14916\n",
      "1          2083  21612\n",
      "model WITH scaler\n",
      "Accuracy on test data:  0.6\n",
      "Accuracy on train data:  0.6\n",
      "              precision    recall  f1-score   support\n",
      "\n",
      "           0       0.64      0.20      0.30     18550\n",
      "           1       0.59      0.91      0.72     23695\n",
      "\n",
      "    accuracy                           0.60     42245\n",
      "   macro avg       0.61      0.55      0.51     42245\n",
      "weighted avg       0.61      0.60      0.53     42245\n",
      "\n",
      "predicted     0      1\n",
      "actual                \n",
      "0          3634  14916\n",
      "1          2083  21612\n"
     ]
    }
   ],
   "source": [
    "#define X and y - only state and duration\n",
    "y = df['state'] #target\n",
    "X = df[['duration']] #predictors\n",
    "\n",
    "#run the models\n",
    "random_forest(X,y)\n",
    "random_forest_scaler(X,y)"
   ]
  },
  {
   "cell_type": "code",
   "execution_count": 377,
   "metadata": {},
   "outputs": [
    {
     "name": "stdout",
     "output_type": "stream",
     "text": [
      "model WITH scaler\n",
      "Accuracy on test data:  0.56\n",
      "Accuracy on train data:  0.56\n",
      "              precision    recall  f1-score   support\n",
      "\n",
      "           0       0.00      0.00      0.00     18550\n",
      "           1       0.56      1.00      0.72     23695\n",
      "\n",
      "    accuracy                           0.56     42245\n",
      "   macro avg       0.28      0.50      0.36     42245\n",
      "weighted avg       0.31      0.56      0.40     42245\n",
      "\n",
      "predicted      1\n",
      "actual          \n",
      "0          18550\n",
      "1          23695\n",
      "model WITH scaler\n",
      "Accuracy on test data:  0.56\n",
      "Accuracy on train data:  0.56\n",
      "              precision    recall  f1-score   support\n",
      "\n",
      "           0       0.00      0.00      0.00     18550\n",
      "           1       0.56      1.00      0.72     23695\n",
      "\n",
      "    accuracy                           0.56     42245\n",
      "   macro avg       0.28      0.50      0.36     42245\n",
      "weighted avg       0.31      0.56      0.40     42245\n",
      "\n",
      "predicted      1\n",
      "actual          \n",
      "0          18550\n",
      "1          23695\n"
     ]
    }
   ],
   "source": [
    "#define X and y - only state and weekday_launch\n",
    "y = df['state'] #target\n",
    "X = df[['weekday_launch']] #predictors\n",
    "\n",
    "#run the models\n",
    "random_forest(X,y)\n",
    "random_forest_scaler(X,y)"
   ]
  },
  {
   "cell_type": "code",
   "execution_count": 378,
   "metadata": {},
   "outputs": [
    {
     "name": "stdout",
     "output_type": "stream",
     "text": [
      "model WITH scaler\n",
      "Accuracy on test data:  0.56\n",
      "Accuracy on train data:  0.56\n",
      "              precision    recall  f1-score   support\n",
      "\n",
      "           0       0.00      0.00      0.00     18550\n",
      "           1       0.56      1.00      0.72     23695\n",
      "\n",
      "    accuracy                           0.56     42245\n",
      "   macro avg       0.28      0.50      0.36     42245\n",
      "weighted avg       0.31      0.56      0.40     42245\n",
      "\n",
      "predicted      1\n",
      "actual          \n",
      "0          18550\n",
      "1          23695\n",
      "model WITH scaler\n",
      "Accuracy on test data:  0.56\n",
      "Accuracy on train data:  0.56\n",
      "              precision    recall  f1-score   support\n",
      "\n",
      "           0       0.00      0.00      0.00     18550\n",
      "           1       0.56      1.00      0.72     23695\n",
      "\n",
      "    accuracy                           0.56     42245\n",
      "   macro avg       0.28      0.50      0.36     42245\n",
      "weighted avg       0.31      0.56      0.40     42245\n",
      "\n",
      "predicted      1\n",
      "actual          \n",
      "0          18550\n",
      "1          23695\n"
     ]
    }
   ],
   "source": [
    "#define X and y - only state and month_launch\n",
    "y = df['state'] #target\n",
    "X = df[['month_launch']] #predictors\n",
    "\n",
    "#run the models\n",
    "random_forest(X,y)\n",
    "random_forest_scaler(X,y)"
   ]
  },
  {
   "cell_type": "code",
   "execution_count": 379,
   "metadata": {},
   "outputs": [
    {
     "name": "stdout",
     "output_type": "stream",
     "text": [
      "model WITH scaler\n",
      "Accuracy on test data:  0.59\n",
      "Accuracy on train data:  0.62\n",
      "              precision    recall  f1-score   support\n",
      "\n",
      "           0       0.56      0.34      0.42     18550\n",
      "           1       0.61      0.79      0.69     23695\n",
      "\n",
      "    accuracy                           0.59     42245\n",
      "   macro avg       0.58      0.57      0.56     42245\n",
      "weighted avg       0.59      0.59      0.57     42245\n",
      "\n",
      "predicted     0      1\n",
      "actual                \n",
      "0          6332  12218\n",
      "1          4954  18741\n",
      "model WITH scaler\n",
      "Accuracy on test data:  0.59\n",
      "Accuracy on train data:  0.62\n",
      "              precision    recall  f1-score   support\n",
      "\n",
      "           0       0.56      0.34      0.42     18550\n",
      "           1       0.61      0.79      0.69     23695\n",
      "\n",
      "    accuracy                           0.59     42245\n",
      "   macro avg       0.58      0.57      0.56     42245\n",
      "weighted avg       0.59      0.59      0.57     42245\n",
      "\n",
      "predicted     0      1\n",
      "actual                \n",
      "0          6335  12215\n",
      "1          4958  18737\n"
     ]
    }
   ],
   "source": [
    "#define X and y - state, weekday_launch and month_launch\n",
    "y = df['state'] #target\n",
    "X = df[['duration', 'weekday_launch', 'month_launch']] #predictors\n",
    "\n",
    "#run the models\n",
    "random_forest(X,y)\n",
    "random_forest_scaler(X,y)"
   ]
  },
  {
   "cell_type": "markdown",
   "metadata": {},
   "source": [
    "# Not for Monday\n",
    "Clarify on:\n",
    "* how to look up best duration\n",
    "\n",
    "Conclusion:\n",
    "* only duration important\n",
    "* a little bit the launch weekday, but way less"
   ]
  },
  {
   "cell_type": "code",
   "execution_count": 380,
   "metadata": {},
   "outputs": [],
   "source": [
    "#situation, complication, solution\n",
    "\n",
    "# mittel, was erfolgreichst was weniger erfolgreich\n",
    "# was habe ich, was ist drin, was nehme ich mit"
   ]
  }
 ],
 "metadata": {
  "kernelspec": {
   "display_name": "Python 3.9.8 ('.venv': venv)",
   "language": "python",
   "name": "python3"
  },
  "language_info": {
   "codemirror_mode": {
    "name": "ipython",
    "version": 3
   },
   "file_extension": ".py",
   "mimetype": "text/x-python",
   "name": "python",
   "nbconvert_exporter": "python",
   "pygments_lexer": "ipython3",
   "version": "3.9.8"
  },
  "orig_nbformat": 4,
  "vscode": {
   "interpreter": {
    "hash": "246773fcefac3fdb2c2c1cd23d67d4ab973d124541c22a468fcca47900c0ff93"
   }
  }
 },
 "nbformat": 4,
 "nbformat_minor": 2
}
