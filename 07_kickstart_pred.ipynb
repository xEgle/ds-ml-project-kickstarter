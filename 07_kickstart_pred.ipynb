{
 "cells": [
  {
   "cell_type": "markdown",
   "metadata": {},
   "source": [
    "Libaries"
   ]
  },
  {
   "cell_type": "code",
   "execution_count": 66,
   "metadata": {},
   "outputs": [],
   "source": [
    "# import the necessary libraries you need for your analysis\n",
    "import pandas as pd\n",
    "import numpy as np\n",
    "import matplotlib.pyplot as plt\n",
    "from matplotlib import cm\n",
    "import seaborn as sns\n",
    "from sklearn.model_selection import train_test_split\n",
    "from sklearn.preprocessing import StandardScaler\n",
    "from sklearn.linear_model import LogisticRegression\n",
    "from sklearn.metrics import classification_report\n",
    "from sklearn.tree import DecisionTreeClassifier\n",
    "from sklearn.metrics import confusion_matrix\n",
    "from sklearn.metrics import accuracy_score\n",
    "from sklearn.model_selection import RandomizedSearchCV, GridSearchCV\n",
    "from sklearn.neighbors import KNeighborsClassifier\n",
    "from sklearn.ensemble import RandomForestClassifier\n",
    "from xgboost import XGBClassifier\n",
    "import warnings\n",
    "warnings.filterwarnings('ignore')\n",
    "\n",
    "\n",
    "#brew install cmake\n",
    "#pip install xgboost==1.6.1\n",
    "\n",
    "RSEED = 42"
   ]
  },
  {
   "cell_type": "markdown",
   "metadata": {},
   "source": [
    "Reading data"
   ]
  },
  {
   "cell_type": "code",
   "execution_count": 67,
   "metadata": {},
   "outputs": [],
   "source": [
    "df = pd.read_csv('data/2_data.csv')"
   ]
  },
  {
   "cell_type": "markdown",
   "metadata": {},
   "source": [
    "Processing data"
   ]
  },
  {
   "cell_type": "code",
   "execution_count": 68,
   "metadata": {},
   "outputs": [],
   "source": [
    "#replace state --> failed == 0 and successfull == 1\n",
    "df['state'] = df['state'].replace('failed', 0).replace('successful', 1).astype(int)\n",
    "\n",
    "#change dtype for duration from object into int\n",
    "df[['duration', 'duration_days_weeks', 'duration_time']] = df['duration'].str.split(' ', expand=True)\n",
    "df = df.drop('duration_days_weeks', axis = 1).drop('duration_time', axis = 1)\n",
    "df.duration = df.duration.astype(int)"
   ]
  },
  {
   "cell_type": "markdown",
   "metadata": {},
   "source": [
    "XGBOOST"
   ]
  },
  {
   "cell_type": "code",
   "execution_count": 69,
   "metadata": {},
   "outputs": [],
   "source": [
    "df_final2 = df[['staff_pick','category_sub','duration','description_length', 'name_length', 'goal_usd','state']]\n",
    "df_final2.description_length.fillna(0, inplace=True)\n",
    "df_final2['state'] = df_final2['state'].replace({'failed': 0, 'successful': 1})\n",
    "df_final2 = pd.get_dummies(df_final2, drop_first = True)\n",
    "\n",
    "y2 = df_final2[\"state\"]\n",
    "X2 = df_final2.drop(\"state\", axis=1)\n",
    "\n",
    "X_train2, X_test2, y_train2, y_test2 = train_test_split(X2, y2, stratify = y2, random_state=RSEED)\n"
   ]
  },
  {
   "cell_type": "code",
   "execution_count": 70,
   "metadata": {},
   "outputs": [],
   "source": [
    "col = ['duration','description_length', 'name_length', 'goal_usd']\n",
    "scaling2 = StandardScaler()\n",
    "X_train_scaled = scaling2.fit_transform(X_train2[col])\n",
    "X_test_scaled = scaling2.transform(X_test2[col])\n",
    "\n",
    "X_train_preprocessed = np.concatenate([X_train_scaled, X_train2.drop(col , axis=1)], axis= 1)\n",
    "X_test_preprocessed = np.concatenate([X_test_scaled, X_test2.drop(col , axis=1)], axis = 1)"
   ]
  },
  {
   "cell_type": "code",
   "execution_count": 71,
   "metadata": {},
   "outputs": [
    {
     "name": "stdout",
     "output_type": "stream",
     "text": [
      "Performance on train set:  0.8065554626225007\n",
      "Performance on test set:  0.8\n",
      "              precision    recall  f1-score   support\n",
      "\n",
      "           0       0.76      0.80      0.78     18550\n",
      "           1       0.84      0.80      0.82     23695\n",
      "\n",
      "    accuracy                           0.80     42245\n",
      "   macro avg       0.80      0.80      0.80     42245\n",
      "weighted avg       0.80      0.80      0.80     42245\n",
      "\n"
     ]
    }
   ],
   "source": [
    "#fitting XGBoost with final params and dropped main category\n",
    "\n",
    "boost_final = XGBClassifier(learning_rate = 0.5, max_depth = 5, min_child_weight = 50, subsample = 0.9)\n",
    "\n",
    "boost_final.fit(X_train_preprocessed, y_train2)\n",
    "\n",
    "y_pred_final = boost_final.predict(X_test_preprocessed)\n",
    "\n",
    "print(\"Performance on train set: \",boost_final.score(X_train_preprocessed, y_train2))\n",
    "print(\"Performance on test set: \",boost_final.score(X_test_preprocessed, y_test2))\n",
    "\n",
    "\n",
    "print(classification_report(y_test2,y_pred_final))"
   ]
  },
  {
   "cell_type": "code",
   "execution_count": 72,
   "metadata": {},
   "outputs": [],
   "source": [
    "#staff_pick','category_sub','duration','description_length', 'name_length', 'goal_usd','state'\n",
    "def predict_funct(staffpick, category_sub, duration, description_length, name_length, goal_usd):\n",
    "    \"\"\"_summary_\n",
    "\n",
    "    Args:\n",
    "        staffpick (_type_): _description_\n",
    "        category_sub (_type_): _description_\n",
    "        duration (_type_): _description_\n",
    "        description_length (_type_): _description_\n",
    "        name_length (_type_): _description_\n",
    "        goal_usd (_type_): _description_\n",
    "\n",
    "    Returns:\n",
    "        _type_: _description_\n",
    "    \"\"\"\n",
    "    X_kt_scale = scaling2.transform((np.array([duration, description_length, name_length, goal_usd]).reshape(1,-1)))\n",
    "    X = X_train2.head(1)\n",
    "    X = pd.DataFrame(0, index=np.arange(len(X_bp)), columns=X_bp.columns)\n",
    "\n",
    "    X.staff_pick =  staffpick\n",
    "    X[category_sub] = 1\n",
    "    X_kickturtle = np.concatenate([X_kt_scale, X.drop(['duration', 'description_length', 'name_length', 'goal_usd'],axis=1)],axis=1)\n",
    "    y_kt = boost_final.predict(X_kickturtle)\n",
    "\n",
    "\n",
    "    return print(y_kt)"
   ]
  },
  {
   "cell_type": "code",
   "execution_count": 78,
   "metadata": {},
   "outputs": [
    {
     "name": "stdout",
     "output_type": "stream",
     "text": [
      "[0]\n",
      "[1]\n"
     ]
    }
   ],
   "source": [
    "predict_funct(False,'category_sub_webcomics',1,100,100,1000000000000)  #Example how to call the function\n",
    "predict_funct(True,'category_sub_Misc',30,100,100,1000) "
   ]
  }
 ],
 "metadata": {
  "kernelspec": {
   "display_name": "Python 3.9.8 ('.venv': venv)",
   "language": "python",
   "name": "python3"
  },
  "language_info": {
   "codemirror_mode": {
    "name": "ipython",
    "version": 3
   },
   "file_extension": ".py",
   "mimetype": "text/x-python",
   "name": "python",
   "nbconvert_exporter": "python",
   "pygments_lexer": "ipython3",
   "version": "3.9.8"
  },
  "orig_nbformat": 4,
  "vscode": {
   "interpreter": {
    "hash": "5fc42540fe103dd469b6725b57967c12f40a7d17b537c2890cc57fdaceb51611"
   }
  }
 },
 "nbformat": 4,
 "nbformat_minor": 2
}
