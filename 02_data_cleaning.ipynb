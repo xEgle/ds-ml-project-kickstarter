{
 "cells": [
  {
   "cell_type": "markdown",
   "metadata": {},
   "source": [
    "# Data cleaning\n",
    "This script relates to the kickstarter dataset - please run this only after the setup is complete.\n",
    "It changes column names, drops unnecessary features and checks the currency columns for validity.\n",
    "Collaborators: Philippa Schindler"
   ]
  },
  {
   "cell_type": "code",
   "execution_count": 34,
   "metadata": {},
   "outputs": [],
   "source": [
    "import pandas as pd\n",
    "import re"
   ]
  },
  {
   "cell_type": "code",
   "execution_count": 35,
   "metadata": {},
   "outputs": [],
   "source": [
    "df = pd.read_csv('data/1_working_data.csv')"
   ]
  },
  {
   "cell_type": "markdown",
   "metadata": {},
   "source": [
    "## Renaming"
   ]
  },
  {
   "cell_type": "code",
   "execution_count": 36,
   "metadata": {},
   "outputs": [],
   "source": [
    "# rename blurb to description and goal to goal_orig\n",
    "df.rename(columns={'blurb':'description','pledged':'pledged_orig','goal':'goal_orig'},inplace=True)"
   ]
  },
  {
   "cell_type": "code",
   "execution_count": 37,
   "metadata": {},
   "outputs": [],
   "source": [
    "# add prefix date_* to launched_at, created_at, deadline, state_changed_at\n",
    "df.rename(columns={'launched_at':'date_launch', 'created_at':'date_creation', 'deadline':'date_end', 'state_changed_at':'date_status_change'}, inplace=True)\n"
   ]
  },
  {
   "cell_type": "markdown",
   "metadata": {},
   "source": [
    "## Drop"
   ]
  },
  {
   "cell_type": "code",
   "execution_count": 38,
   "metadata": {},
   "outputs": [],
   "source": [
    "# drop unnecessary columns\n",
    "df_drop = df.drop([\"Unnamed: 0\",'currency_symbol','converted_pledged_amount','currency_trailing_code',\n",
    "    'friends', 'fx_rate','is_backing', 'is_starrable', 'is_starred','permissions','slug','source_url','usd_type'], axis = 1)"
   ]
  },
  {
   "cell_type": "code",
   "execution_count": 39,
   "metadata": {},
   "outputs": [],
   "source": [
    "#drop duplicate rows & status == fail or successful \n",
    "df = df.query('(state == \"failed\") or (state == \"successful\")')\n",
    "df.drop_duplicates(subset = 'id', inplace=True)"
   ]
  },
  {
   "cell_type": "code",
   "execution_count": 40,
   "metadata": {},
   "outputs": [
    {
     "data": {
      "text/html": [
       "<div>\n",
       "<style scoped>\n",
       "    .dataframe tbody tr th:only-of-type {\n",
       "        vertical-align: middle;\n",
       "    }\n",
       "\n",
       "    .dataframe tbody tr th {\n",
       "        vertical-align: top;\n",
       "    }\n",
       "\n",
       "    .dataframe thead th {\n",
       "        text-align: right;\n",
       "    }\n",
       "</style>\n",
       "<table border=\"1\" class=\"dataframe\">\n",
       "  <thead>\n",
       "    <tr style=\"text-align: right;\">\n",
       "      <th></th>\n",
       "      <th>Unnamed: 0</th>\n",
       "      <th>backers_count</th>\n",
       "      <th>description</th>\n",
       "      <th>converted_pledged_amount</th>\n",
       "      <th>country</th>\n",
       "      <th>date_creation</th>\n",
       "      <th>currency</th>\n",
       "      <th>currency_symbol</th>\n",
       "      <th>currency_trailing_code</th>\n",
       "      <th>current_currency</th>\n",
       "      <th>...</th>\n",
       "      <th>static_usd_rate</th>\n",
       "      <th>usd_pledged</th>\n",
       "      <th>usd_type</th>\n",
       "      <th>creator_id</th>\n",
       "      <th>category_id</th>\n",
       "      <th>category_name</th>\n",
       "      <th>category_slug</th>\n",
       "      <th>category_position</th>\n",
       "      <th>category_parent_id</th>\n",
       "      <th>category_color</th>\n",
       "    </tr>\n",
       "  </thead>\n",
       "  <tbody>\n",
       "    <tr>\n",
       "      <th>1</th>\n",
       "      <td>1</td>\n",
       "      <td>47</td>\n",
       "      <td>A colorful Dia de los Muertos themed oracle de...</td>\n",
       "      <td>1950</td>\n",
       "      <td>US</td>\n",
       "      <td>2017-08-02 14:28:13</td>\n",
       "      <td>USD</td>\n",
       "      <td>$</td>\n",
       "      <td>True</td>\n",
       "      <td>USD</td>\n",
       "      <td>...</td>\n",
       "      <td>1.000000</td>\n",
       "      <td>1950.000000</td>\n",
       "      <td>domestic</td>\n",
       "      <td>723886115</td>\n",
       "      <td>273</td>\n",
       "      <td>Playing Cards</td>\n",
       "      <td>games/playing cards</td>\n",
       "      <td>4</td>\n",
       "      <td>12.0</td>\n",
       "      <td>51627</td>\n",
       "    </tr>\n",
       "    <tr>\n",
       "      <th>2</th>\n",
       "      <td>2</td>\n",
       "      <td>271</td>\n",
       "      <td>Electra's long awaited, eclectic Debut Pop/Roc...</td>\n",
       "      <td>22404</td>\n",
       "      <td>US</td>\n",
       "      <td>2012-09-30 06:45:33</td>\n",
       "      <td>USD</td>\n",
       "      <td>$</td>\n",
       "      <td>True</td>\n",
       "      <td>USD</td>\n",
       "      <td>...</td>\n",
       "      <td>1.000000</td>\n",
       "      <td>22404.000000</td>\n",
       "      <td>international</td>\n",
       "      <td>323849677</td>\n",
       "      <td>43</td>\n",
       "      <td>Rock</td>\n",
       "      <td>music/rock</td>\n",
       "      <td>17</td>\n",
       "      <td>14.0</td>\n",
       "      <td>10878931</td>\n",
       "    </tr>\n",
       "    <tr>\n",
       "      <th>3</th>\n",
       "      <td>3</td>\n",
       "      <td>3</td>\n",
       "      <td>The Mist of Tribunal is a turn-based card game...</td>\n",
       "      <td>165</td>\n",
       "      <td>GB</td>\n",
       "      <td>2017-01-07 09:11:11</td>\n",
       "      <td>GBP</td>\n",
       "      <td>£</td>\n",
       "      <td>False</td>\n",
       "      <td>USD</td>\n",
       "      <td>...</td>\n",
       "      <td>1.216066</td>\n",
       "      <td>165.384934</td>\n",
       "      <td>domestic</td>\n",
       "      <td>196281496</td>\n",
       "      <td>273</td>\n",
       "      <td>Playing Cards</td>\n",
       "      <td>games/playing cards</td>\n",
       "      <td>4</td>\n",
       "      <td>12.0</td>\n",
       "      <td>51627</td>\n",
       "    </tr>\n",
       "    <tr>\n",
       "      <th>4</th>\n",
       "      <td>4</td>\n",
       "      <td>3</td>\n",
       "      <td>Livng with a brain impairment, what its like t...</td>\n",
       "      <td>2820</td>\n",
       "      <td>US</td>\n",
       "      <td>2012-12-06 18:04:31</td>\n",
       "      <td>USD</td>\n",
       "      <td>$</td>\n",
       "      <td>True</td>\n",
       "      <td>USD</td>\n",
       "      <td>...</td>\n",
       "      <td>1.000000</td>\n",
       "      <td>2820.000000</td>\n",
       "      <td>domestic</td>\n",
       "      <td>1178460181</td>\n",
       "      <td>48</td>\n",
       "      <td>Nonfiction</td>\n",
       "      <td>publishing/nonfiction</td>\n",
       "      <td>9</td>\n",
       "      <td>18.0</td>\n",
       "      <td>14867664</td>\n",
       "    </tr>\n",
       "    <tr>\n",
       "      <th>5</th>\n",
       "      <td>5</td>\n",
       "      <td>35</td>\n",
       "      <td>Annapolis Chamber Players is a non-for profit ...</td>\n",
       "      <td>3725</td>\n",
       "      <td>US</td>\n",
       "      <td>2014-10-24 17:35:50</td>\n",
       "      <td>USD</td>\n",
       "      <td>$</td>\n",
       "      <td>True</td>\n",
       "      <td>USD</td>\n",
       "      <td>...</td>\n",
       "      <td>1.000000</td>\n",
       "      <td>3725.000000</td>\n",
       "      <td>domestic</td>\n",
       "      <td>682189804</td>\n",
       "      <td>36</td>\n",
       "      <td>Classical Music</td>\n",
       "      <td>music/classical music</td>\n",
       "      <td>3</td>\n",
       "      <td>14.0</td>\n",
       "      <td>10878931</td>\n",
       "    </tr>\n",
       "  </tbody>\n",
       "</table>\n",
       "<p>5 rows × 39 columns</p>\n",
       "</div>"
      ],
      "text/plain": [
       "   Unnamed: 0  backers_count  \\\n",
       "1           1             47   \n",
       "2           2            271   \n",
       "3           3              3   \n",
       "4           4              3   \n",
       "5           5             35   \n",
       "\n",
       "                                         description  \\\n",
       "1  A colorful Dia de los Muertos themed oracle de...   \n",
       "2  Electra's long awaited, eclectic Debut Pop/Roc...   \n",
       "3  The Mist of Tribunal is a turn-based card game...   \n",
       "4  Livng with a brain impairment, what its like t...   \n",
       "5  Annapolis Chamber Players is a non-for profit ...   \n",
       "\n",
       "   converted_pledged_amount country        date_creation currency  \\\n",
       "1                      1950      US  2017-08-02 14:28:13      USD   \n",
       "2                     22404      US  2012-09-30 06:45:33      USD   \n",
       "3                       165      GB  2017-01-07 09:11:11      GBP   \n",
       "4                      2820      US  2012-12-06 18:04:31      USD   \n",
       "5                      3725      US  2014-10-24 17:35:50      USD   \n",
       "\n",
       "  currency_symbol  currency_trailing_code current_currency  ...  \\\n",
       "1               $                    True              USD  ...   \n",
       "2               $                    True              USD  ...   \n",
       "3               £                   False              USD  ...   \n",
       "4               $                    True              USD  ...   \n",
       "5               $                    True              USD  ...   \n",
       "\n",
       "  static_usd_rate   usd_pledged       usd_type  creator_id  category_id  \\\n",
       "1        1.000000   1950.000000       domestic   723886115          273   \n",
       "2        1.000000  22404.000000  international   323849677           43   \n",
       "3        1.216066    165.384934       domestic   196281496          273   \n",
       "4        1.000000   2820.000000       domestic  1178460181           48   \n",
       "5        1.000000   3725.000000       domestic   682189804           36   \n",
       "\n",
       "     category_name          category_slug  category_position  \\\n",
       "1    Playing Cards    games/playing cards                  4   \n",
       "2             Rock             music/rock                 17   \n",
       "3    Playing Cards    games/playing cards                  4   \n",
       "4       Nonfiction  publishing/nonfiction                  9   \n",
       "5  Classical Music  music/classical music                  3   \n",
       "\n",
       "  category_parent_id category_color  \n",
       "1               12.0          51627  \n",
       "2               14.0       10878931  \n",
       "3               12.0          51627  \n",
       "4               18.0       14867664  \n",
       "5               14.0       10878931  \n",
       "\n",
       "[5 rows x 39 columns]"
      ]
     },
     "execution_count": 40,
     "metadata": {},
     "output_type": "execute_result"
    }
   ],
   "source": [
    "# quality check\n",
    "df.head()"
   ]
  },
  {
   "cell_type": "markdown",
   "metadata": {},
   "source": [
    "## Split category"
   ]
  },
  {
   "cell_type": "code",
   "execution_count": 41,
   "metadata": {},
   "outputs": [
    {
     "data": {
      "text/html": [
       "<div>\n",
       "<style scoped>\n",
       "    .dataframe tbody tr th:only-of-type {\n",
       "        vertical-align: middle;\n",
       "    }\n",
       "\n",
       "    .dataframe tbody tr th {\n",
       "        vertical-align: top;\n",
       "    }\n",
       "\n",
       "    .dataframe thead th {\n",
       "        text-align: right;\n",
       "    }\n",
       "</style>\n",
       "<table border=\"1\" class=\"dataframe\">\n",
       "  <thead>\n",
       "    <tr style=\"text-align: right;\">\n",
       "      <th></th>\n",
       "      <th>Unnamed: 0</th>\n",
       "      <th>backers_count</th>\n",
       "      <th>description</th>\n",
       "      <th>converted_pledged_amount</th>\n",
       "      <th>country</th>\n",
       "      <th>date_creation</th>\n",
       "      <th>currency</th>\n",
       "      <th>currency_symbol</th>\n",
       "      <th>currency_trailing_code</th>\n",
       "      <th>current_currency</th>\n",
       "      <th>...</th>\n",
       "      <th>usd_type</th>\n",
       "      <th>creator_id</th>\n",
       "      <th>category_id</th>\n",
       "      <th>category_name</th>\n",
       "      <th>category_slug</th>\n",
       "      <th>category_position</th>\n",
       "      <th>category_parent_id</th>\n",
       "      <th>category_color</th>\n",
       "      <th>category_main</th>\n",
       "      <th>category_sub</th>\n",
       "    </tr>\n",
       "  </thead>\n",
       "  <tbody>\n",
       "    <tr>\n",
       "      <th>1</th>\n",
       "      <td>1</td>\n",
       "      <td>47</td>\n",
       "      <td>A colorful Dia de los Muertos themed oracle de...</td>\n",
       "      <td>1950</td>\n",
       "      <td>US</td>\n",
       "      <td>2017-08-02 14:28:13</td>\n",
       "      <td>USD</td>\n",
       "      <td>$</td>\n",
       "      <td>True</td>\n",
       "      <td>USD</td>\n",
       "      <td>...</td>\n",
       "      <td>domestic</td>\n",
       "      <td>723886115</td>\n",
       "      <td>273</td>\n",
       "      <td>Playing Cards</td>\n",
       "      <td>games/playing cards</td>\n",
       "      <td>4</td>\n",
       "      <td>12.0</td>\n",
       "      <td>51627</td>\n",
       "      <td>games</td>\n",
       "      <td>playing cards</td>\n",
       "    </tr>\n",
       "    <tr>\n",
       "      <th>2</th>\n",
       "      <td>2</td>\n",
       "      <td>271</td>\n",
       "      <td>Electra's long awaited, eclectic Debut Pop/Roc...</td>\n",
       "      <td>22404</td>\n",
       "      <td>US</td>\n",
       "      <td>2012-09-30 06:45:33</td>\n",
       "      <td>USD</td>\n",
       "      <td>$</td>\n",
       "      <td>True</td>\n",
       "      <td>USD</td>\n",
       "      <td>...</td>\n",
       "      <td>international</td>\n",
       "      <td>323849677</td>\n",
       "      <td>43</td>\n",
       "      <td>Rock</td>\n",
       "      <td>music/rock</td>\n",
       "      <td>17</td>\n",
       "      <td>14.0</td>\n",
       "      <td>10878931</td>\n",
       "      <td>music</td>\n",
       "      <td>rock</td>\n",
       "    </tr>\n",
       "    <tr>\n",
       "      <th>3</th>\n",
       "      <td>3</td>\n",
       "      <td>3</td>\n",
       "      <td>The Mist of Tribunal is a turn-based card game...</td>\n",
       "      <td>165</td>\n",
       "      <td>GB</td>\n",
       "      <td>2017-01-07 09:11:11</td>\n",
       "      <td>GBP</td>\n",
       "      <td>£</td>\n",
       "      <td>False</td>\n",
       "      <td>USD</td>\n",
       "      <td>...</td>\n",
       "      <td>domestic</td>\n",
       "      <td>196281496</td>\n",
       "      <td>273</td>\n",
       "      <td>Playing Cards</td>\n",
       "      <td>games/playing cards</td>\n",
       "      <td>4</td>\n",
       "      <td>12.0</td>\n",
       "      <td>51627</td>\n",
       "      <td>games</td>\n",
       "      <td>playing cards</td>\n",
       "    </tr>\n",
       "    <tr>\n",
       "      <th>4</th>\n",
       "      <td>4</td>\n",
       "      <td>3</td>\n",
       "      <td>Livng with a brain impairment, what its like t...</td>\n",
       "      <td>2820</td>\n",
       "      <td>US</td>\n",
       "      <td>2012-12-06 18:04:31</td>\n",
       "      <td>USD</td>\n",
       "      <td>$</td>\n",
       "      <td>True</td>\n",
       "      <td>USD</td>\n",
       "      <td>...</td>\n",
       "      <td>domestic</td>\n",
       "      <td>1178460181</td>\n",
       "      <td>48</td>\n",
       "      <td>Nonfiction</td>\n",
       "      <td>publishing/nonfiction</td>\n",
       "      <td>9</td>\n",
       "      <td>18.0</td>\n",
       "      <td>14867664</td>\n",
       "      <td>publishing</td>\n",
       "      <td>nonfiction</td>\n",
       "    </tr>\n",
       "    <tr>\n",
       "      <th>5</th>\n",
       "      <td>5</td>\n",
       "      <td>35</td>\n",
       "      <td>Annapolis Chamber Players is a non-for profit ...</td>\n",
       "      <td>3725</td>\n",
       "      <td>US</td>\n",
       "      <td>2014-10-24 17:35:50</td>\n",
       "      <td>USD</td>\n",
       "      <td>$</td>\n",
       "      <td>True</td>\n",
       "      <td>USD</td>\n",
       "      <td>...</td>\n",
       "      <td>domestic</td>\n",
       "      <td>682189804</td>\n",
       "      <td>36</td>\n",
       "      <td>Classical Music</td>\n",
       "      <td>music/classical music</td>\n",
       "      <td>3</td>\n",
       "      <td>14.0</td>\n",
       "      <td>10878931</td>\n",
       "      <td>music</td>\n",
       "      <td>classical music</td>\n",
       "    </tr>\n",
       "  </tbody>\n",
       "</table>\n",
       "<p>5 rows × 41 columns</p>\n",
       "</div>"
      ],
      "text/plain": [
       "   Unnamed: 0  backers_count  \\\n",
       "1           1             47   \n",
       "2           2            271   \n",
       "3           3              3   \n",
       "4           4              3   \n",
       "5           5             35   \n",
       "\n",
       "                                         description  \\\n",
       "1  A colorful Dia de los Muertos themed oracle de...   \n",
       "2  Electra's long awaited, eclectic Debut Pop/Roc...   \n",
       "3  The Mist of Tribunal is a turn-based card game...   \n",
       "4  Livng with a brain impairment, what its like t...   \n",
       "5  Annapolis Chamber Players is a non-for profit ...   \n",
       "\n",
       "   converted_pledged_amount country        date_creation currency  \\\n",
       "1                      1950      US  2017-08-02 14:28:13      USD   \n",
       "2                     22404      US  2012-09-30 06:45:33      USD   \n",
       "3                       165      GB  2017-01-07 09:11:11      GBP   \n",
       "4                      2820      US  2012-12-06 18:04:31      USD   \n",
       "5                      3725      US  2014-10-24 17:35:50      USD   \n",
       "\n",
       "  currency_symbol  currency_trailing_code current_currency  ...  \\\n",
       "1               $                    True              USD  ...   \n",
       "2               $                    True              USD  ...   \n",
       "3               £                   False              USD  ...   \n",
       "4               $                    True              USD  ...   \n",
       "5               $                    True              USD  ...   \n",
       "\n",
       "        usd_type  creator_id category_id    category_name  \\\n",
       "1       domestic   723886115         273    Playing Cards   \n",
       "2  international   323849677          43             Rock   \n",
       "3       domestic   196281496         273    Playing Cards   \n",
       "4       domestic  1178460181          48       Nonfiction   \n",
       "5       domestic   682189804          36  Classical Music   \n",
       "\n",
       "           category_slug  category_position category_parent_id  \\\n",
       "1    games/playing cards                  4               12.0   \n",
       "2             music/rock                 17               14.0   \n",
       "3    games/playing cards                  4               12.0   \n",
       "4  publishing/nonfiction                  9               18.0   \n",
       "5  music/classical music                  3               14.0   \n",
       "\n",
       "   category_color category_main     category_sub  \n",
       "1           51627         games    playing cards  \n",
       "2        10878931         music             rock  \n",
       "3           51627         games    playing cards  \n",
       "4        14867664    publishing       nonfiction  \n",
       "5        10878931         music  classical music  \n",
       "\n",
       "[5 rows x 41 columns]"
      ]
     },
     "execution_count": 41,
     "metadata": {},
     "output_type": "execute_result"
    }
   ],
   "source": [
    "df[['category_main','category_sub']] = df['category_slug'].str.split('/', expand=True)\n",
    "df.head()"
   ]
  },
  {
   "cell_type": "code",
   "execution_count": 42,
   "metadata": {},
   "outputs": [
    {
     "data": {
      "text/plain": [
       "False    168979\n",
       "Name: category_main, dtype: int64"
      ]
     },
     "execution_count": 42,
     "metadata": {},
     "output_type": "execute_result"
    }
   ],
   "source": [
    "# Quality check \n",
    "df['category_main'].isna().value_counts()"
   ]
  },
  {
   "cell_type": "code",
   "execution_count": 43,
   "metadata": {},
   "outputs": [
    {
     "data": {
      "text/plain": [
       "False    160703\n",
       "True       8276\n",
       "Name: category_sub, dtype: int64"
      ]
     },
     "execution_count": 43,
     "metadata": {},
     "output_type": "execute_result"
    }
   ],
   "source": [
    "df['category_sub'].isna().value_counts()"
   ]
  },
  {
   "cell_type": "code",
   "execution_count": 44,
   "metadata": {},
   "outputs": [],
   "source": [
    "# Fill missing sub cats as miscallenous\n",
    "df['category_sub'].fillna('Misc',inplace=True)"
   ]
  },
  {
   "cell_type": "code",
   "execution_count": 45,
   "metadata": {},
   "outputs": [
    {
     "data": {
      "text/plain": [
       "False    168979\n",
       "Name: category_sub, dtype: int64"
      ]
     },
     "execution_count": 45,
     "metadata": {},
     "output_type": "execute_result"
    }
   ],
   "source": [
    "df['category_sub'].isna().value_counts()"
   ]
  },
  {
   "cell_type": "markdown",
   "metadata": {},
   "source": [
    "# Change date to date format"
   ]
  },
  {
   "cell_type": "code",
   "execution_count": 46,
   "metadata": {},
   "outputs": [],
   "source": [
    "df['date_end'] = pd.to_datetime(df['date_end'])\n",
    "df['date_launch'] = pd.to_datetime(df['date_launch'])\n",
    "df['date_status_change'] = pd.to_datetime(df['date_status_change'])\n",
    "df['date_creation'] = pd.to_datetime(df['date_creation'])"
   ]
  },
  {
   "cell_type": "markdown",
   "metadata": {},
   "source": [
    "# Add new columns"
   ]
  },
  {
   "cell_type": "code",
   "execution_count": 47,
   "metadata": {},
   "outputs": [
    {
     "data": {
      "text/plain": [
       "count                        168979\n",
       "mean     32 days 15:40:57.190307671\n",
       "std      11 days 18:11:17.107493517\n",
       "min                 1 days 00:00:00\n",
       "25%                29 days 23:00:00\n",
       "50%                30 days 00:00:00\n",
       "75%         34 days 03:06:58.500000\n",
       "max                93 days 02:32:04\n",
       "Name: duration, dtype: object"
      ]
     },
     "execution_count": 47,
     "metadata": {},
     "output_type": "execute_result"
    }
   ],
   "source": [
    "# length of campaign\n",
    "df['duration'] = df['date_end'] - df['date_launch']\n",
    "# quality check\n",
    "df['duration'].describe()"
   ]
  },
  {
   "cell_type": "code",
   "execution_count": 70,
   "metadata": {},
   "outputs": [
    {
     "data": {
      "text/plain": [
       "string[python]"
      ]
     },
     "execution_count": 70,
     "metadata": {},
     "output_type": "execute_result"
    }
   ],
   "source": [
    "# length of description\n",
    "df['description'] = df['description'].astype('string')\n",
    "df['description'].dtypes"
   ]
  },
  {
   "cell_type": "code",
   "execution_count": 67,
   "metadata": {},
   "outputs": [
    {
     "data": {
      "text/plain": [
       "count    168979.000000\n",
       "mean        112.865273\n",
       "std          26.275073\n",
       "min           1.000000\n",
       "25%         102.000000\n",
       "50%         124.000000\n",
       "75%         132.000000\n",
       "max         196.000000\n",
       "Name: description_length, dtype: float64"
      ]
     },
     "execution_count": 67,
     "metadata": {},
     "output_type": "execute_result"
    }
   ],
   "source": [
    "# Length of description + title of project\n",
    "df['description_length'] = df['description'].apply(len)\n",
    "# Quality check\n",
    "df['description_length'].describe()"
   ]
  },
  {
   "cell_type": "code",
   "execution_count": 68,
   "metadata": {},
   "outputs": [
    {
     "data": {
      "text/plain": [
       "count    168979.000000\n",
       "mean         34.804236\n",
       "std          15.704077\n",
       "min           1.000000\n",
       "25%          22.000000\n",
       "50%          34.000000\n",
       "75%          49.000000\n",
       "max          85.000000\n",
       "Name: name_length, dtype: float64"
      ]
     },
     "execution_count": 68,
     "metadata": {},
     "output_type": "execute_result"
    }
   ],
   "source": [
    "df['name_length'] = df['name'].apply(len)\n",
    "# Quality check\n",
    "df['name_length'].describe()"
   ]
  },
  {
   "cell_type": "markdown",
   "metadata": {},
   "source": [
    "# Create final csv to use for all further models"
   ]
  },
  {
   "cell_type": "code",
   "execution_count": 69,
   "metadata": {},
   "outputs": [],
   "source": [
    "#save merged raw dataframe as a file \n",
    "df.to_csv('data/2_data.csv')"
   ]
  }
 ],
 "metadata": {
  "kernelspec": {
   "display_name": "Python 3.9.8 ('.venv': venv)",
   "language": "python",
   "name": "python3"
  },
  "language_info": {
   "codemirror_mode": {
    "name": "ipython",
    "version": 3
   },
   "file_extension": ".py",
   "mimetype": "text/x-python",
   "name": "python",
   "nbconvert_exporter": "python",
   "pygments_lexer": "ipython3",
   "version": "3.9.8"
  },
  "orig_nbformat": 4,
  "vscode": {
   "interpreter": {
    "hash": "acb36a9476365e98b039fbc63b261488d0140862f2956f6961bb0ecf49196712"
   }
  }
 },
 "nbformat": 4,
 "nbformat_minor": 2
}
